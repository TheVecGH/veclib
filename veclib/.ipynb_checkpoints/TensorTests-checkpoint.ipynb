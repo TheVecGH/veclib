{
 "cells": [
  {
   "cell_type": "code",
   "execution_count": 3,
   "id": "2bfffb46-1db4-4959-9b0d-665ea5bf2e7e",
   "metadata": {},
   "outputs": [
    {
     "name": "stdout",
     "output_type": "stream",
     "text": [
      "The autoreload extension is already loaded. To reload it, use:\n",
      "  %reload_ext autoreload\n"
     ]
    }
   ],
   "source": [
    "%load_ext autoreload\n",
    "%autoreload 2\n",
    "import veclib.tensor\n",
    "import veclib.spacetime\n",
    "import veclib as vl\n",
    "import sympy as sp"
   ]
  },
  {
   "cell_type": "code",
   "execution_count": 4,
   "id": "5c7dcbb1-58b0-471a-8aa8-75c4e24b329e",
   "metadata": {},
   "outputs": [
    {
     "name": "stdout",
     "output_type": "stream",
     "text": [
      "spacetime.metric = Matrix([[-f(r), 0, 0, 0], [0, 1/f(r), 0, 0], [0, 0, r**2, 0], [0, 0, 0, r**2*sin(theta)**2]])\n",
      "spacetime.coordinates = (t, r, theta, phi)\n",
      "spacetime.dim = 4\n"
     ]
    },
    {
     "data": {
      "text/latex": [
       "$∂_{α}\\,T\\!\\,^{β}\\!\\,_{γ} = \\left[\\begin{matrix}\\left[\\begin{matrix}0 & 0 & 0 & 0\\\\0 & 0 & 0 & 0\\\\0 & 0 & 0 & 0\\\\0 & 0 & 0 & 0\\end{matrix}\\right] & \\left[\\begin{matrix}0 & 0 & 0 & 0\\\\0 & 0 & 0 & 0\\\\0 & 0 & 2 r & 0\\\\0 & 0 & 0 & 2 r\\end{matrix}\\right] & \\left[\\begin{matrix}0 & 0 & 0 & 0\\\\0 & 0 & 0 & 0\\\\0 & 0 & 0 & 0\\\\0 & 0 & 0 & 0\\end{matrix}\\right] & \\left[\\begin{matrix}0 & 0 & 0 & 0\\\\0 & 0 & 0 & 0\\\\0 & 0 & 0 & 0\\\\0 & 0 & 0 & 0\\end{matrix}\\right]\\end{matrix}\\right]$"
      ],
      "text/plain": [
       "Tensor(components=[[[0, 0, 0, 0], [0, 0, 0, 0], [0, 0, 0, 0], [0, 0, 0, 0]], [[0, 0, 0, 0], [0, 0, 0, 0], [0, 0, 2*r, 0], [0, 0, 0, 2*r]], [[0, 0, 0, 0], [0, 0, 0, 0], [0, 0, 0, 0], [0, 0, 0, 0]], [[0, 0, 0, 0], [0, 0, 0, 0], [0, 0, 0, 0], [0, 0, 0, 0]]], indices=[-1, 1, -1], name=∂T)"
      ]
     },
     "execution_count": 4,
     "metadata": {},
     "output_type": "execute_result"
    }
   ],
   "source": [
    "coords = t,r,theta,phi = sp.symbols('t r theta phi')\n",
    "f = sp.Function('f')(r)\n",
    "g = vl.tensor.Tensor(\"g\", sp.MutableDenseNDimArray(sp.diag(-f,f**-1,r**2, r**2 * sp.sin(theta)**2)), [-1,-1])\n",
    "\n",
    "vl.spacetime.set_metric_and_coordinates(g,coords)\n",
    "\n",
    "print(\"spacetime.metric = \" + str(vl.spacetime.metric))\n",
    "print(\"spacetime.coordinates = \" + str(vl.spacetime.coords))\n",
    "print(\"spacetime.dim = \" + str(vl.spacetime.dim))\n",
    "\n",
    "T = vl.tensor.Tensor(\"T\", sp.diag(0,0,r**4, r**4 * sp.sin(theta)**2), [-1,-1])\n",
    "\n",
    "T = T.raise_index(0)\n",
    "\n",
    "T\n",
    "\n",
    "dT = T.partial_gradient()\n",
    "dT"
   ]
  },
  {
   "cell_type": "code",
   "execution_count": 5,
   "id": "4319346f-90e4-4eda-9acf-c9cb35cd1a40",
   "metadata": {},
   "outputs": [
    {
     "data": {
      "text/latex": [
       "$\\displaystyle \\left[\\begin{matrix}\\left[\\begin{matrix}0 & 0 & 0 & 0\\\\0 & 0 & 0 & 0\\\\0 & 0 & 0 & 0\\\\0 & 0 & 0 & 0\\end{matrix}\\right] & \\left[\\begin{matrix}0 & 0 & 0 & 0\\\\0 & 0 & 0 & 0\\\\0 & 0 & 2 r & 0\\\\0 & 0 & 0 & 2 r\\end{matrix}\\right] & \\left[\\begin{matrix}0 & 0 & 0 & 0\\\\0 & 0 & 0 & 0\\\\0 & 0 & 0 & 0\\\\0 & 0 & 0 & 0\\end{matrix}\\right] & \\left[\\begin{matrix}0 & 0 & 0 & 0\\\\0 & 0 & 0 & 0\\\\0 & 0 & 0 & 0\\\\0 & 0 & 0 & 0\\end{matrix}\\right]\\end{matrix}\\right]$"
      ],
      "text/plain": [
       "[[[0, 0, 0, 0], [0, 0, 0, 0], [0, 0, 0, 0], [0, 0, 0, 0]], [[0, 0, 0, 0], [0, 0, 0, 0], [0, 0, 2*r, 0], [0, 0, 0, 2*r]], [[0, 0, 0, 0], [0, 0, 0, 0], [0, 0, 0, 0], [0, 0, 0, 0]], [[0, 0, 0, 0], [0, 0, 0, 0], [0, 0, 0, 0], [0, 0, 0, 0]]]"
      ]
     },
     "execution_count": 5,
     "metadata": {},
     "output_type": "execute_result"
    }
   ],
   "source": [
    "S = vl.tensor.Tensor(\"S\", sp.Function('S')(t,r,theta,phi))\n",
    "dS = S.partial_gradient()\n",
    "\n",
    "dT = T.partial_gradient()\n",
    "\n",
    "ddS = dS.partial_gradient()\n",
    "dg = g.partial_gradient()\n",
    "dT.components"
   ]
  },
  {
   "cell_type": "code",
   "execution_count": 16,
   "id": "85067d63-cbe0-466d-a65b-ffb3aad7c828",
   "metadata": {},
   "outputs": [
    {
     "ename": "NameError",
     "evalue": "name 'L' is not defined",
     "output_type": "error",
     "traceback": [
      "\u001b[1;31m---------------------------------------------------------------------------\u001b[0m",
      "\u001b[1;31mNameError\u001b[0m                                 Traceback (most recent call last)",
      "Cell \u001b[1;32mIn[16], line 2\u001b[0m\n\u001b[0;32m      1\u001b[0m Sr \u001b[38;5;241m=\u001b[39m sp\u001b[38;5;241m.\u001b[39mFunction(\u001b[38;5;124m'\u001b[39m\u001b[38;5;124mS_r\u001b[39m\u001b[38;5;124m'\u001b[39m)(r)\n\u001b[1;32m----> 2\u001b[0m S \u001b[38;5;241m=\u001b[39m \u001b[38;5;241m-\u001b[39mt \u001b[38;5;241m+\u001b[39m Sr \u001b[38;5;241m+\u001b[39m \u001b[43mL\u001b[49m \u001b[38;5;241m*\u001b[39m phi\n",
      "\u001b[1;31mNameError\u001b[0m: name 'L' is not defined"
     ]
    }
   ],
   "source": [
    "Sr = sp.Function('S_r')(r)\n",
    "L = \n",
    "S = -t + Sr + L * theta"
   ]
  },
  {
   "cell_type": "code",
   "execution_count": null,
   "id": "9a71dab2-6b3f-4a7c-848d-66efd5e2926f",
   "metadata": {},
   "outputs": [],
   "source": []
  }
 ],
 "metadata": {
  "kernelspec": {
   "display_name": "Python 3 (ipykernel)",
   "language": "python",
   "name": "python3"
  },
  "language_info": {
   "codemirror_mode": {
    "name": "ipython",
    "version": 3
   },
   "file_extension": ".py",
   "mimetype": "text/x-python",
   "name": "python",
   "nbconvert_exporter": "python",
   "pygments_lexer": "ipython3",
   "version": "3.11.0"
  }
 },
 "nbformat": 4,
 "nbformat_minor": 5
}
