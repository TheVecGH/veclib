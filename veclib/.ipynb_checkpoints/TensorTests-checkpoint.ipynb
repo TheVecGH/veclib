{
 "cells": [
  {
   "cell_type": "code",
   "execution_count": 175,
   "id": "2bfffb46-1db4-4959-9b0d-665ea5bf2e7e",
   "metadata": {},
   "outputs": [
    {
     "name": "stdout",
     "output_type": "stream",
     "text": [
      "The autoreload extension is already loaded. To reload it, use:\n",
      "  %reload_ext autoreload\n"
     ]
    }
   ],
   "source": [
    "%load_ext autoreload\n",
    "%autoreload 2\n",
    "import veclib.tensor\n",
    "import veclib.spacetime\n",
    "import veclib as vl\n",
    "import sympy as sp"
   ]
  },
  {
   "cell_type": "code",
   "execution_count": 176,
   "id": "5c7dcbb1-58b0-471a-8aa8-75c4e24b329e",
   "metadata": {},
   "outputs": [
    {
     "name": "stdout",
     "output_type": "stream",
     "text": [
      "spacetime.metric = [[-f(r), 0, 0, 0], [0, 1/f(r), 0, 0], [0, 0, r**2, 0], [0, 0, 0, r**2*sin(theta)**2]]\n",
      "spacetime.coordinates = (t, r, theta, phi)\n",
      "spacetime.dim = 4\n"
     ]
    },
    {
     "data": {
      "text/latex": [
       "$[∂T]\\!\\,_{α}\\!\\,^{β}\\!\\,_{γ} = \\left[\\begin{matrix}\\left[\\begin{matrix}0 & 0 & 0 & 0\\\\0 & 0 & 0 & 0\\\\0 & 0 & 0 & 0\\\\0 & 0 & 0 & 0\\end{matrix}\\right] & \\left[\\begin{matrix}0 & 0 & 0 & 0\\\\0 & 0 & 0 & 0\\\\0 & 0 & 2 r & 0\\\\0 & 0 & 0 & 2 r\\end{matrix}\\right] & \\left[\\begin{matrix}0 & 0 & 0 & 0\\\\0 & 0 & 0 & 0\\\\0 & 0 & 0 & 0\\\\0 & 0 & 0 & 0\\end{matrix}\\right] & \\left[\\begin{matrix}0 & 0 & 0 & 0\\\\0 & 0 & 0 & 0\\\\0 & 0 & 0 & 0\\\\0 & 0 & 0 & 0\\end{matrix}\\right]\\end{matrix}\\right]$"
      ],
      "text/plain": [
       "Tensor(components=[[[0, 0, 0, 0], [0, 0, 0, 0], [0, 0, 0, 0], [0, 0, 0, 0]], [[0, 0, 0, 0], [0, 0, 0, 0], [0, 0, 2*r, 0], [0, 0, 0, 2*r]], [[0, 0, 0, 0], [0, 0, 0, 0], [0, 0, 0, 0], [0, 0, 0, 0]], [[0, 0, 0, 0], [0, 0, 0, 0], [0, 0, 0, 0], [0, 0, 0, 0]]], indices=[-1, 1, -1], name=∂T)"
      ]
     },
     "execution_count": 176,
     "metadata": {},
     "output_type": "execute_result"
    }
   ],
   "source": [
    "coords = t,r,theta,phi = sp.symbols('t r theta phi')\n",
    "f = sp.Function('f')(r)\n",
    "g = vl.tensor.Tensor(\"g\", sp.MutableDenseNDimArray(sp.diag(-f,f**-1,r**2, r**2 * sp.sin(theta)**2)), [-1,-1])\n",
    "\n",
    "vl.spacetime.set_metric_and_coordinates(g,coords)\n",
    "\n",
    "print(\"spacetime.metric = \" + str(vl.spacetime.metric))\n",
    "print(\"spacetime.coordinates = \" + str(vl.spacetime.coords))\n",
    "print(\"spacetime.dim = \" + str(vl.spacetime.dim))\n",
    "\n",
    "T = vl.tensor.Tensor(\"T\", sp.diag(0,0,r**4, r**4 * sp.sin(theta)**2), [-1,-1])\n",
    "\n",
    "T = T.raise_index(0)\n",
    "\n",
    "T\n",
    "\n",
    "dT = T.partial_gradient()\n",
    "dT"
   ]
  },
  {
   "cell_type": "code",
   "execution_count": 177,
   "id": "4319346f-90e4-4eda-9acf-c9cb35cd1a40",
   "metadata": {},
   "outputs": [
    {
     "data": {
      "text/latex": [
       "$\\displaystyle \\left[\\begin{matrix}\\left[\\begin{matrix}0 & 0 & 0 & 0\\\\0 & 0 & 0 & 0\\\\0 & 0 & 0 & 0\\\\0 & 0 & 0 & 0\\end{matrix}\\right] & \\left[\\begin{matrix}0 & 0 & 0 & 0\\\\0 & 0 & 0 & 0\\\\0 & 0 & 2 r & 0\\\\0 & 0 & 0 & 2 r\\end{matrix}\\right] & \\left[\\begin{matrix}0 & 0 & 0 & 0\\\\0 & 0 & 0 & 0\\\\0 & 0 & 0 & 0\\\\0 & 0 & 0 & 0\\end{matrix}\\right] & \\left[\\begin{matrix}0 & 0 & 0 & 0\\\\0 & 0 & 0 & 0\\\\0 & 0 & 0 & 0\\\\0 & 0 & 0 & 0\\end{matrix}\\right]\\end{matrix}\\right]$"
      ],
      "text/plain": [
       "[[[0, 0, 0, 0], [0, 0, 0, 0], [0, 0, 0, 0], [0, 0, 0, 0]], [[0, 0, 0, 0], [0, 0, 0, 0], [0, 0, 2*r, 0], [0, 0, 0, 2*r]], [[0, 0, 0, 0], [0, 0, 0, 0], [0, 0, 0, 0], [0, 0, 0, 0]], [[0, 0, 0, 0], [0, 0, 0, 0], [0, 0, 0, 0], [0, 0, 0, 0]]]"
      ]
     },
     "execution_count": 177,
     "metadata": {},
     "output_type": "execute_result"
    }
   ],
   "source": [
    "S = vl.tensor.Tensor(\"S\", sp.Function('S')(t,r,theta,phi))\n",
    "dS = S.partial_gradient()\n",
    "\n",
    "dT = T.partial_gradient()\n",
    "\n",
    "ddS = dS.partial_gradient()\n",
    "dg = g.partial_gradient()\n",
    "dT.components"
   ]
  },
  {
   "cell_type": "code",
   "execution_count": 178,
   "id": "85067d63-cbe0-466d-a65b-ffb3aad7c828",
   "metadata": {},
   "outputs": [
    {
     "data": {
      "text/latex": [
       "$∎\\!\\,^{α}\\!\\,^{β}\\!\\,^{γ} = \\left[\\begin{matrix}\\left[\\begin{matrix}0 & - \\frac{2 \\frac{d}{d r} f{\\left(r \\right)}}{f^{2}{\\left(r \\right)}} & 0 & 0\\\\0 & f{\\left(r \\right)} \\frac{d^{2}}{d r^{2}} S_{r}{\\left(r \\right)} & 0 & 0\\\\0 & - \\frac{L \\left(r \\frac{d}{d r} f{\\left(r \\right)} + 2 f{\\left(r \\right)}\\right)}{r^{3} f{\\left(r \\right)}} & 0 & 0\\\\0 & 0 & 0 & 0\\end{matrix}\\right] & \\left[\\begin{matrix}0 & f{\\left(r \\right)} \\frac{d^{2}}{d r^{2}} S_{r}{\\left(r \\right)} & 0 & 0\\\\0 & 2 \\left(f{\\left(r \\right)} \\frac{d^{2}}{d r^{2}} S_{r}{\\left(r \\right)} + \\frac{d}{d r} S_{r}{\\left(r \\right)} \\frac{d}{d r} f{\\left(r \\right)}\\right) f^{2}{\\left(r \\right)} \\frac{d}{d r} S_{r}{\\left(r \\right)} & 0 & 0\\\\0 & \\frac{L \\left(r \\left(f{\\left(r \\right)} \\frac{d^{2}}{d r^{2}} S_{r}{\\left(r \\right)} + \\frac{d}{d r} S_{r}{\\left(r \\right)} \\frac{d}{d r} f{\\left(r \\right)}\\right) - 2 f{\\left(r \\right)} \\frac{d}{d r} S_{r}{\\left(r \\right)}\\right) f{\\left(r \\right)}}{r^{3}} & 0 & 0\\\\0 & 0 & 0 & 0\\end{matrix}\\right] & \\left[\\begin{matrix}0 & - \\frac{L \\left(r \\frac{d}{d r} f{\\left(r \\right)} + 2 f{\\left(r \\right)}\\right)}{r^{3} f{\\left(r \\right)}} & 0 & 0\\\\0 & \\frac{L \\left(r \\left(f{\\left(r \\right)} \\frac{d^{2}}{d r^{2}} S_{r}{\\left(r \\right)} + \\frac{d}{d r} S_{r}{\\left(r \\right)} \\frac{d}{d r} f{\\left(r \\right)}\\right) - 2 f{\\left(r \\right)} \\frac{d}{d r} S_{r}{\\left(r \\right)}\\right) f{\\left(r \\right)}}{r^{3}} & 0 & 0\\\\0 & - \\frac{4 L^{2} f{\\left(r \\right)}}{r^{5}} & 0 & 0\\\\0 & 0 & 0 & 0\\end{matrix}\\right] & \\left[\\begin{matrix}1 & 0 & 0 & 0\\\\0 & 0 & 0 & 0\\\\0 & 0 & 0 & 0\\\\0 & 0 & 0 & 0\\end{matrix}\\right]\\end{matrix}\\right]$"
      ],
      "text/plain": [
       "Tensor(components=[[[0, -2*Derivative(f(r), r)/f(r)**2, 0, 0], [0, f(r)*Derivative(S_r(r), (r, 2)), 0, 0], [0, -L*(r*Derivative(f(r), r) + 2*f(r))/(r**3*f(r)), 0, 0], [0, 0, 0, 0]], [[0, f(r)*Derivative(S_r(r), (r, 2)), 0, 0], [0, 2*(f(r)*Derivative(S_r(r), (r, 2)) + Derivative(S_r(r), r)*Derivative(f(r), r))*f(r)**2*Derivative(S_r(r), r), 0, 0], [0, L*(r*(f(r)*Derivative(S_r(r), (r, 2)) + Derivative(S_r(r), r)*Derivative(f(r), r)) - 2*f(r)*Derivative(S_r(r), r))*f(r)/r**3, 0, 0], [0, 0, 0, 0]], [[0, -L*(r*Derivative(f(r), r) + 2*f(r))/(r**3*f(r)), 0, 0], [0, L*(r*(f(r)*Derivative(S_r(r), (r, 2)) + Derivative(S_r(r), r)*Derivative(f(r), r)) - 2*f(r)*Derivative(S_r(r), r))*f(r)/r**3, 0, 0], [0, -4*L**2*f(r)/r**5, 0, 0], [0, 0, 0, 0]], [[1, 0, 0, 0], [0, 0, 0, 0], [0, 0, 0, 0], [0, 0, 0, 0]]], indices=[1, 1, 1], name=∎)"
      ]
     },
     "execution_count": 178,
     "metadata": {},
     "output_type": "execute_result"
    }
   ],
   "source": [
    "Sr = sp.Function('S_r')(r)\n",
    "L = sp.symbols('L')\n",
    "S = -t + Sr + L * theta\n",
    "S = vl.tensor.Tensor(\"S\", S)\n",
    "u = S.partial_gradient().raise_index(0)\n",
    "\n",
    "proj = u.tensor_product(u)\n",
    "proj = proj.partial_gradient()\n",
    "proj = proj.raise_index(0)\n",
    "proj.components[0,0,3] = 1\n",
    "proj.swap_indices(0,2)"
   ]
  },
  {
   "cell_type": "code",
   "execution_count": 192,
   "id": "9a71dab2-6b3f-4a7c-848d-66efd5e2926f",
   "metadata": {},
   "outputs": [
    {
     "data": {
      "text/latex": [
       "$\\displaystyle [\\mathit{S}] = L \\theta - t + S_{r}{\\left(r \\right)}$"
      ],
      "text/plain": [
       "<IPython.core.display.Math object>"
      ]
     },
     "metadata": {},
     "output_type": "display_data"
    },
    {
     "data": {
      "text/latex": [
       "$\\displaystyle \\mathit{∂S⊗v}\\!\\,_{t}\\!\\,_{t} = -1$"
      ],
      "text/plain": [
       "<IPython.core.display.Math object>"
      ]
     },
     "metadata": {},
     "output_type": "display_data"
    },
    {
     "data": {
      "text/latex": [
       "$\\displaystyle \\mathit{∂S⊗v}\\!\\,_{t}\\!\\,_{r} = -2$"
      ],
      "text/plain": [
       "<IPython.core.display.Math object>"
      ]
     },
     "metadata": {},
     "output_type": "display_data"
    },
    {
     "data": {
      "text/latex": [
       "$\\displaystyle \\mathit{∂S⊗v}\\!\\,_{t}\\!\\,_{\\theta} = -3$"
      ],
      "text/plain": [
       "<IPython.core.display.Math object>"
      ]
     },
     "metadata": {},
     "output_type": "display_data"
    },
    {
     "data": {
      "text/latex": [
       "$\\displaystyle \\mathit{∂S⊗v}\\!\\,_{t}\\!\\,_{\\phi} = -4$"
      ],
      "text/plain": [
       "<IPython.core.display.Math object>"
      ]
     },
     "metadata": {},
     "output_type": "display_data"
    },
    {
     "data": {
      "text/latex": [
       "$\\displaystyle \\mathit{∂S⊗v}\\!\\,_{r}\\!\\,_{t} = \\frac{d}{d r} S_{r}{\\left(r \\right)}$"
      ],
      "text/plain": [
       "<IPython.core.display.Math object>"
      ]
     },
     "metadata": {},
     "output_type": "display_data"
    },
    {
     "data": {
      "text/latex": [
       "$\\displaystyle \\mathit{∂S⊗v}\\!\\,_{r}\\!\\,_{r} = 2 \\frac{d}{d r} S_{r}{\\left(r \\right)}$"
      ],
      "text/plain": [
       "<IPython.core.display.Math object>"
      ]
     },
     "metadata": {},
     "output_type": "display_data"
    },
    {
     "data": {
      "text/latex": [
       "$\\displaystyle \\mathit{∂S⊗v}\\!\\,_{r}\\!\\,_{\\theta} = 3 \\frac{d}{d r} S_{r}{\\left(r \\right)}$"
      ],
      "text/plain": [
       "<IPython.core.display.Math object>"
      ]
     },
     "metadata": {},
     "output_type": "display_data"
    },
    {
     "data": {
      "text/latex": [
       "$\\displaystyle \\mathit{∂S⊗v}\\!\\,_{r}\\!\\,_{\\phi} = 4 \\frac{d}{d r} S_{r}{\\left(r \\right)}$"
      ],
      "text/plain": [
       "<IPython.core.display.Math object>"
      ]
     },
     "metadata": {},
     "output_type": "display_data"
    },
    {
     "data": {
      "text/latex": [
       "$\\displaystyle \\mathit{∂S⊗v}\\!\\,_{\\theta}\\!\\,_{t} = L$"
      ],
      "text/plain": [
       "<IPython.core.display.Math object>"
      ]
     },
     "metadata": {},
     "output_type": "display_data"
    },
    {
     "data": {
      "text/latex": [
       "$\\displaystyle \\mathit{∂S⊗v}\\!\\,_{\\theta}\\!\\,_{r} = 2 L$"
      ],
      "text/plain": [
       "<IPython.core.display.Math object>"
      ]
     },
     "metadata": {},
     "output_type": "display_data"
    },
    {
     "data": {
      "text/latex": [
       "$\\displaystyle \\mathit{∂S⊗v}\\!\\,_{\\theta}\\!\\,_{\\theta} = 3 L$"
      ],
      "text/plain": [
       "<IPython.core.display.Math object>"
      ]
     },
     "metadata": {},
     "output_type": "display_data"
    },
    {
     "data": {
      "text/latex": [
       "$\\displaystyle \\mathit{∂S⊗v}\\!\\,_{\\theta}\\!\\,_{\\phi} = 4 L$"
      ],
      "text/plain": [
       "<IPython.core.display.Math object>"
      ]
     },
     "metadata": {},
     "output_type": "display_data"
    },
    {
     "data": {
      "text/latex": [
       "$[S(∎ - ∂∂S)]\\!\\,_{α}\\!\\,_{β} = \\left[\\begin{matrix}- L \\theta + t - S_{r}{\\left(r \\right)} & \\left(L \\theta - t + S_{r}{\\left(r \\right)}\\right) \\frac{d}{d r} S_{r}{\\left(r \\right)} & L \\left(L \\theta - t + S_{r}{\\left(r \\right)}\\right) & 0\\\\- 2 L \\theta + 2 t - 2 S_{r}{\\left(r \\right)} & \\left(2 \\frac{d}{d r} S_{r}{\\left(r \\right)} - \\frac{d^{2}}{d r^{2}} S_{r}{\\left(r \\right)}\\right) \\left(L \\theta - t + S_{r}{\\left(r \\right)}\\right) & 2 L \\left(L \\theta - t + S_{r}{\\left(r \\right)}\\right) & 0\\\\- 3 L \\theta + 3 t - 3 S_{r}{\\left(r \\right)} & 3 \\left(L \\theta - t + S_{r}{\\left(r \\right)}\\right) \\frac{d}{d r} S_{r}{\\left(r \\right)} & 3 L \\left(L \\theta - t + S_{r}{\\left(r \\right)}\\right) & 0\\\\- 4 L \\theta + 4 t - 4 S_{r}{\\left(r \\right)} & 4 \\left(L \\theta - t + S_{r}{\\left(r \\right)}\\right) \\frac{d}{d r} S_{r}{\\left(r \\right)} & 4 L \\left(L \\theta - t + S_{r}{\\left(r \\right)}\\right) & 0\\end{matrix}\\right]$"
      ],
      "text/plain": [
       "Tensor(components=[[-L*theta + t - S_r(r), (L*theta - t + S_r(r))*Derivative(S_r(r), r), L*(L*theta - t + S_r(r)), 0], [-2*L*theta + 2*t - 2*S_r(r), (2*Derivative(S_r(r), r) - Derivative(S_r(r), (r, 2)))*(L*theta - t + S_r(r)), 2*L*(L*theta - t + S_r(r)), 0], [-3*L*theta + 3*t - 3*S_r(r), 3*(L*theta - t + S_r(r))*Derivative(S_r(r), r), 3*L*(L*theta - t + S_r(r)), 0], [-4*L*theta + 4*t - 4*S_r(r), 4*(L*theta - t + S_r(r))*Derivative(S_r(r), r), 4*L*(L*theta - t + S_r(r)), 0]], indices=[-1, -1], name=S(∎ - ∂∂S))"
      ]
     },
     "execution_count": 192,
     "metadata": {},
     "output_type": "execute_result"
    }
   ],
   "source": [
    "Sr = sp.Function('S_r')(r)\n",
    "L = sp.symbols('L')\n",
    "S = -t + Sr + L * theta\n",
    "S = vl.tensor.Tensor(\"S\", S)\n",
    "\n",
    "S.show_components()\n",
    "\n",
    "u = S.partial_gradient()\n",
    "v = vl.tensor.Tensor(\"v\", [1,2,3,4], [-1])\n",
    "HJ = u.tensor_product(v)\n",
    "T = HJ.swap_indices()\n",
    "\n",
    "HJ.show_components()\n",
    "\n",
    "ddS = u.partial_gradient()\n",
    "K = T - ddS\n",
    "K = S * K\n",
    "K"
   ]
  },
  {
   "cell_type": "code",
   "execution_count": 180,
   "id": "a7cd71d0-497d-48e2-bd04-d41ec85b98b9",
   "metadata": {},
   "outputs": [
    {
     "data": {
      "text/latex": [
       "$[∂(\\eta + fn⊗n)]\\!\\,_{α}\\!\\,_{β}\\!\\,_{γ} = \\left[\\begin{matrix}\\left[\\begin{matrix}0 & 0 & 0 & 0\\\\0 & \\frac{\\partial}{\\partial t} f{\\left(t,r,\\theta,\\phi \\right)} & 2 \\frac{\\partial}{\\partial t} f{\\left(t,r,\\theta,\\phi \\right)} & 3 \\frac{\\partial}{\\partial t} f{\\left(t,r,\\theta,\\phi \\right)}\\\\0 & 2 \\frac{\\partial}{\\partial t} f{\\left(t,r,\\theta,\\phi \\right)} & 4 \\frac{\\partial}{\\partial t} f{\\left(t,r,\\theta,\\phi \\right)} & 6 \\frac{\\partial}{\\partial t} f{\\left(t,r,\\theta,\\phi \\right)}\\\\0 & 3 \\frac{\\partial}{\\partial t} f{\\left(t,r,\\theta,\\phi \\right)} & 6 \\frac{\\partial}{\\partial t} f{\\left(t,r,\\theta,\\phi \\right)} & 9 \\frac{\\partial}{\\partial t} f{\\left(t,r,\\theta,\\phi \\right)}\\end{matrix}\\right] & \\left[\\begin{matrix}0 & 0 & 0 & 0\\\\0 & \\frac{\\partial}{\\partial r} f{\\left(t,r,\\theta,\\phi \\right)} & 2 \\frac{\\partial}{\\partial r} f{\\left(t,r,\\theta,\\phi \\right)} & 3 \\frac{\\partial}{\\partial r} f{\\left(t,r,\\theta,\\phi \\right)}\\\\0 & 2 \\frac{\\partial}{\\partial r} f{\\left(t,r,\\theta,\\phi \\right)} & 4 \\frac{\\partial}{\\partial r} f{\\left(t,r,\\theta,\\phi \\right)} & 6 \\frac{\\partial}{\\partial r} f{\\left(t,r,\\theta,\\phi \\right)}\\\\0 & 3 \\frac{\\partial}{\\partial r} f{\\left(t,r,\\theta,\\phi \\right)} & 6 \\frac{\\partial}{\\partial r} f{\\left(t,r,\\theta,\\phi \\right)} & 9 \\frac{\\partial}{\\partial r} f{\\left(t,r,\\theta,\\phi \\right)}\\end{matrix}\\right] & \\left[\\begin{matrix}0 & 0 & 0 & 0\\\\0 & \\frac{\\partial}{\\partial \\theta} f{\\left(t,r,\\theta,\\phi \\right)} & 2 \\frac{\\partial}{\\partial \\theta} f{\\left(t,r,\\theta,\\phi \\right)} & 3 \\frac{\\partial}{\\partial \\theta} f{\\left(t,r,\\theta,\\phi \\right)}\\\\0 & 2 \\frac{\\partial}{\\partial \\theta} f{\\left(t,r,\\theta,\\phi \\right)} & 4 \\frac{\\partial}{\\partial \\theta} f{\\left(t,r,\\theta,\\phi \\right)} & 6 \\frac{\\partial}{\\partial \\theta} f{\\left(t,r,\\theta,\\phi \\right)}\\\\0 & 3 \\frac{\\partial}{\\partial \\theta} f{\\left(t,r,\\theta,\\phi \\right)} & 6 \\frac{\\partial}{\\partial \\theta} f{\\left(t,r,\\theta,\\phi \\right)} & 9 \\frac{\\partial}{\\partial \\theta} f{\\left(t,r,\\theta,\\phi \\right)}\\end{matrix}\\right] & \\left[\\begin{matrix}0 & 0 & 0 & 0\\\\0 & \\frac{\\partial}{\\partial \\phi} f{\\left(t,r,\\theta,\\phi \\right)} & 2 \\frac{\\partial}{\\partial \\phi} f{\\left(t,r,\\theta,\\phi \\right)} & 3 \\frac{\\partial}{\\partial \\phi} f{\\left(t,r,\\theta,\\phi \\right)}\\\\0 & 2 \\frac{\\partial}{\\partial \\phi} f{\\left(t,r,\\theta,\\phi \\right)} & 4 \\frac{\\partial}{\\partial \\phi} f{\\left(t,r,\\theta,\\phi \\right)} & 6 \\frac{\\partial}{\\partial \\phi} f{\\left(t,r,\\theta,\\phi \\right)}\\\\0 & 3 \\frac{\\partial}{\\partial \\phi} f{\\left(t,r,\\theta,\\phi \\right)} & 6 \\frac{\\partial}{\\partial \\phi} f{\\left(t,r,\\theta,\\phi \\right)} & 9 \\frac{\\partial}{\\partial \\phi} f{\\left(t,r,\\theta,\\phi \\right)}\\end{matrix}\\right]\\end{matrix}\\right]$"
      ],
      "text/plain": [
       "Tensor(components=[[[0, 0, 0, 0], [0, Derivative(f(t, r, theta, phi), t), 2*Derivative(f(t, r, theta, phi), t), 3*Derivative(f(t, r, theta, phi), t)], [0, 2*Derivative(f(t, r, theta, phi), t), 4*Derivative(f(t, r, theta, phi), t), 6*Derivative(f(t, r, theta, phi), t)], [0, 3*Derivative(f(t, r, theta, phi), t), 6*Derivative(f(t, r, theta, phi), t), 9*Derivative(f(t, r, theta, phi), t)]], [[0, 0, 0, 0], [0, Derivative(f(t, r, theta, phi), r), 2*Derivative(f(t, r, theta, phi), r), 3*Derivative(f(t, r, theta, phi), r)], [0, 2*Derivative(f(t, r, theta, phi), r), 4*Derivative(f(t, r, theta, phi), r), 6*Derivative(f(t, r, theta, phi), r)], [0, 3*Derivative(f(t, r, theta, phi), r), 6*Derivative(f(t, r, theta, phi), r), 9*Derivative(f(t, r, theta, phi), r)]], [[0, 0, 0, 0], [0, Derivative(f(t, r, theta, phi), theta), 2*Derivative(f(t, r, theta, phi), theta), 3*Derivative(f(t, r, theta, phi), theta)], [0, 2*Derivative(f(t, r, theta, phi), theta), 4*Derivative(f(t, r, theta, phi), theta), 6*Derivative(f(t, r, theta, phi), theta)], [0, 3*Derivative(f(t, r, theta, phi), theta), 6*Derivative(f(t, r, theta, phi), theta), 9*Derivative(f(t, r, theta, phi), theta)]], [[0, 0, 0, 0], [0, Derivative(f(t, r, theta, phi), phi), 2*Derivative(f(t, r, theta, phi), phi), 3*Derivative(f(t, r, theta, phi), phi)], [0, 2*Derivative(f(t, r, theta, phi), phi), 4*Derivative(f(t, r, theta, phi), phi), 6*Derivative(f(t, r, theta, phi), phi)], [0, 3*Derivative(f(t, r, theta, phi), phi), 6*Derivative(f(t, r, theta, phi), phi), 9*Derivative(f(t, r, theta, phi), phi)]]], indices=[-1, -1, -1], name=∂(\\eta + fn⊗n))"
      ]
     },
     "execution_count": 180,
     "metadata": {},
     "output_type": "execute_result"
    }
   ],
   "source": [
    "f = vl.tensor.Tensor(\"f\", sp.Function('f')(t,r,theta,phi))\n",
    "eta = vl.tensor.Tensor(r\"\\eta\", sp.diag(-1,1,1,1), [-1,-1])\n",
    "n = vl.tensor.Tensor(\"n\", [0,1,2,3], [-1])\n",
    "\n",
    "g = eta + f * n * n\n",
    "g\n",
    "dg = g.partial_gradient()\n",
    "dg"
   ]
  },
  {
   "cell_type": "code",
   "execution_count": 187,
   "id": "e96221ff-b960-4549-96d5-1ce372ba4445",
   "metadata": {},
   "outputs": [
    {
     "name": "stdout",
     "output_type": "stream",
     "text": [
      "[[-f(r), 0, 0, 0], [0, 1/f(r), 0, 0], [0, 0, r**2, 0], [0, 0, 0, r**2*sin(theta)**2]]\n"
     ]
    },
    {
     "data": {
      "text/latex": [
       "$\\displaystyle \\mathtt{\\text{Γ}}\\!\\,^{t}\\!\\,_{t}\\!\\,_{r} = \\frac{\\frac{d}{d r} f{\\left(r \\right)}}{2 f{\\left(r \\right)}}$"
      ],
      "text/plain": [
       "<IPython.core.display.Math object>"
      ]
     },
     "metadata": {},
     "output_type": "display_data"
    },
    {
     "data": {
      "text/latex": [
       "$\\displaystyle \\mathtt{\\text{Γ}}\\!\\,^{t}\\!\\,_{r}\\!\\,_{t} = \\frac{\\frac{d}{d r} f{\\left(r \\right)}}{2 f{\\left(r \\right)}}$"
      ],
      "text/plain": [
       "<IPython.core.display.Math object>"
      ]
     },
     "metadata": {},
     "output_type": "display_data"
    },
    {
     "data": {
      "text/latex": [
       "$\\displaystyle \\mathtt{\\text{Γ}}\\!\\,^{r}\\!\\,_{t}\\!\\,_{t} = \\frac{f{\\left(r \\right)} \\frac{d}{d r} f{\\left(r \\right)}}{2}$"
      ],
      "text/plain": [
       "<IPython.core.display.Math object>"
      ]
     },
     "metadata": {},
     "output_type": "display_data"
    },
    {
     "data": {
      "text/latex": [
       "$\\displaystyle \\mathtt{\\text{Γ}}\\!\\,^{r}\\!\\,_{r}\\!\\,_{r} = - \\frac{\\frac{d}{d r} f{\\left(r \\right)}}{2 f{\\left(r \\right)}}$"
      ],
      "text/plain": [
       "<IPython.core.display.Math object>"
      ]
     },
     "metadata": {},
     "output_type": "display_data"
    },
    {
     "data": {
      "text/latex": [
       "$\\displaystyle \\mathtt{\\text{Γ}}\\!\\,^{r}\\!\\,_{\\theta}\\!\\,_{\\theta} = - r f{\\left(r \\right)}$"
      ],
      "text/plain": [
       "<IPython.core.display.Math object>"
      ]
     },
     "metadata": {},
     "output_type": "display_data"
    },
    {
     "data": {
      "text/latex": [
       "$\\displaystyle \\mathtt{\\text{Γ}}\\!\\,^{r}\\!\\,_{\\phi}\\!\\,_{\\phi} = - r f{\\left(r \\right)} \\sin^{2}{\\left(\\theta \\right)}$"
      ],
      "text/plain": [
       "<IPython.core.display.Math object>"
      ]
     },
     "metadata": {},
     "output_type": "display_data"
    },
    {
     "data": {
      "text/latex": [
       "$\\displaystyle \\mathtt{\\text{Γ}}\\!\\,^{\\theta}\\!\\,_{r}\\!\\,_{\\theta} = \\frac{1}{r}$"
      ],
      "text/plain": [
       "<IPython.core.display.Math object>"
      ]
     },
     "metadata": {},
     "output_type": "display_data"
    },
    {
     "data": {
      "text/latex": [
       "$\\displaystyle \\mathtt{\\text{Γ}}\\!\\,^{\\theta}\\!\\,_{\\theta}\\!\\,_{r} = \\frac{1}{r}$"
      ],
      "text/plain": [
       "<IPython.core.display.Math object>"
      ]
     },
     "metadata": {},
     "output_type": "display_data"
    },
    {
     "data": {
      "text/latex": [
       "$\\displaystyle \\mathtt{\\text{Γ}}\\!\\,^{\\theta}\\!\\,_{\\phi}\\!\\,_{\\phi} = - \\frac{\\sin{\\left(2 \\theta \\right)}}{2}$"
      ],
      "text/plain": [
       "<IPython.core.display.Math object>"
      ]
     },
     "metadata": {},
     "output_type": "display_data"
    },
    {
     "data": {
      "text/latex": [
       "$\\displaystyle \\mathtt{\\text{Γ}}\\!\\,^{\\phi}\\!\\,_{r}\\!\\,_{\\phi} = \\frac{1}{r}$"
      ],
      "text/plain": [
       "<IPython.core.display.Math object>"
      ]
     },
     "metadata": {},
     "output_type": "display_data"
    },
    {
     "data": {
      "text/latex": [
       "$\\displaystyle \\mathtt{\\text{Γ}}\\!\\,^{\\phi}\\!\\,_{\\theta}\\!\\,_{\\phi} = \\frac{1}{\\tan{\\left(\\theta \\right)}}$"
      ],
      "text/plain": [
       "<IPython.core.display.Math object>"
      ]
     },
     "metadata": {},
     "output_type": "display_data"
    },
    {
     "data": {
      "text/latex": [
       "$\\displaystyle \\mathtt{\\text{Γ}}\\!\\,^{\\phi}\\!\\,_{\\phi}\\!\\,_{r} = \\frac{1}{r}$"
      ],
      "text/plain": [
       "<IPython.core.display.Math object>"
      ]
     },
     "metadata": {},
     "output_type": "display_data"
    },
    {
     "data": {
      "text/latex": [
       "$\\displaystyle \\mathtt{\\text{Γ}}\\!\\,^{\\phi}\\!\\,_{\\phi}\\!\\,_{\\theta} = \\frac{1}{\\tan{\\left(\\theta \\right)}}$"
      ],
      "text/plain": [
       "<IPython.core.display.Math object>"
      ]
     },
     "metadata": {},
     "output_type": "display_data"
    }
   ],
   "source": [
    "print(vl.spacetime.metric)\n",
    "vl.spacetime.ensure_christoffel()\n",
    "vl.spacetime.christoffel.show_components()"
   ]
  },
  {
   "cell_type": "code",
   "execution_count": null,
   "id": "025df95a-149d-487c-9ed3-2802a9775693",
   "metadata": {},
   "outputs": [],
   "source": []
  }
 ],
 "metadata": {
  "kernelspec": {
   "display_name": "Python 3 (ipykernel)",
   "language": "python",
   "name": "python3"
  },
  "language_info": {
   "codemirror_mode": {
    "name": "ipython",
    "version": 3
   },
   "file_extension": ".py",
   "mimetype": "text/x-python",
   "name": "python",
   "nbconvert_exporter": "python",
   "pygments_lexer": "ipython3",
   "version": "3.11.0"
  }
 },
 "nbformat": 4,
 "nbformat_minor": 5
}
