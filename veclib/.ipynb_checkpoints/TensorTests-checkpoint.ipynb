{
 "cells": [
  {
   "cell_type": "code",
   "execution_count": 1,
   "id": "2bfffb46-1db4-4959-9b0d-665ea5bf2e7e",
   "metadata": {},
   "outputs": [],
   "source": [
    "%load_ext autoreload\n",
    "%autoreload 2\n",
    "import veclib.tensor\n",
    "import veclib.spacetime\n",
    "import veclib.combinatorics\n",
    "import veclib as vl\n",
    "import sympy as sp"
   ]
  },
  {
   "cell_type": "code",
   "execution_count": 23,
   "id": "5c7dcbb1-58b0-471a-8aa8-75c4e24b329e",
   "metadata": {},
   "outputs": [
    {
     "name": "stdout",
     "output_type": "stream",
     "text": [
      "spacetime.metric = [[-f(r), 0, 0, 0], [0, 1/f(r), 0, 0], [0, 0, r**2, 0], [0, 0, 0, r**2*sin(theta)**2]]\n",
      "spacetime.coordinates = (t, r, theta, phi)\n",
      "spacetime.dim = 4\n"
     ]
    },
    {
     "data": {
      "text/latex": [
       "$[∂T]\\!\\,_{α}\\!\\,^{β}\\!\\,_{γ} = \\left[\\begin{matrix}\\left[\\begin{matrix}0 & 0 & 0 & 0\\\\0 & 0 & 0 & 0\\\\0 & 0 & 0 & 0\\\\0 & 0 & 0 & 0\\end{matrix}\\right] & \\left[\\begin{matrix}0 & 0 & 0 & 0\\\\0 & 0 & 0 & 0\\\\0 & 0 & 2 r & 0\\\\0 & 0 & 0 & 2 r\\end{matrix}\\right] & \\left[\\begin{matrix}0 & 0 & 0 & 0\\\\0 & 0 & 0 & 0\\\\0 & 0 & 0 & 0\\\\0 & 0 & 0 & 0\\end{matrix}\\right] & \\left[\\begin{matrix}0 & 0 & 0 & 0\\\\0 & 0 & 0 & 0\\\\0 & 0 & 0 & 0\\\\0 & 0 & 0 & 0\\end{matrix}\\right]\\end{matrix}\\right]$"
      ],
      "text/plain": [
       "Tensor(components=[[[0, 0, 0, 0], [0, 0, 0, 0], [0, 0, 0, 0], [0, 0, 0, 0]], [[0, 0, 0, 0], [0, 0, 0, 0], [0, 0, 2*r, 0], [0, 0, 0, 2*r]], [[0, 0, 0, 0], [0, 0, 0, 0], [0, 0, 0, 0], [0, 0, 0, 0]], [[0, 0, 0, 0], [0, 0, 0, 0], [0, 0, 0, 0], [0, 0, 0, 0]]], indices=[-1, 1, -1], name=∂T)"
      ]
     },
     "execution_count": 23,
     "metadata": {},
     "output_type": "execute_result"
    }
   ],
   "source": [
    "coords = t,r,theta,phi = sp.symbols('t r theta phi')\n",
    "f = sp.Function('f')(r)\n",
    "g = vl.tensor.Tensor(\"g\", sp.MutableDenseNDimArray(sp.diag(-f,f**-1,r**2, r**2 * sp.sin(theta)**2)), [-1,-1])\n",
    "\n",
    "vl.spacetime.set_metric_and_coordinates(g,coords)\n",
    "\n",
    "print(\"spacetime.metric = \" + str(vl.spacetime.metric))\n",
    "print(\"spacetime.coordinates = \" + str(vl.spacetime.coords))\n",
    "print(\"spacetime.dim = \" + str(vl.spacetime.dim))\n",
    "\n",
    "T = vl.tensor.Tensor(\"T\", sp.diag(0,0,r**4, r**4 * sp.sin(theta)**2), [-1,-1])\n",
    "\n",
    "T = T.raise_index(0)\n",
    "\n",
    "T\n",
    "\n",
    "dT = T.partial_gradient()\n",
    "dT"
   ]
  },
  {
   "cell_type": "code",
   "execution_count": 3,
   "id": "4319346f-90e4-4eda-9acf-c9cb35cd1a40",
   "metadata": {},
   "outputs": [
    {
     "data": {
      "text/latex": [
       "$\\displaystyle \\left[\\begin{matrix}\\left[\\begin{matrix}0 & 0 & 0 & 0\\\\0 & 0 & 0 & 0\\\\0 & 0 & 0 & 0\\\\0 & 0 & 0 & 0\\end{matrix}\\right] & \\left[\\begin{matrix}0 & 0 & 0 & 0\\\\0 & 0 & 0 & 0\\\\0 & 0 & 2 r & 0\\\\0 & 0 & 0 & 2 r\\end{matrix}\\right] & \\left[\\begin{matrix}0 & 0 & 0 & 0\\\\0 & 0 & 0 & 0\\\\0 & 0 & 0 & 0\\\\0 & 0 & 0 & 0\\end{matrix}\\right] & \\left[\\begin{matrix}0 & 0 & 0 & 0\\\\0 & 0 & 0 & 0\\\\0 & 0 & 0 & 0\\\\0 & 0 & 0 & 0\\end{matrix}\\right]\\end{matrix}\\right]$"
      ],
      "text/plain": [
       "[[[0, 0, 0, 0], [0, 0, 0, 0], [0, 0, 0, 0], [0, 0, 0, 0]], [[0, 0, 0, 0], [0, 0, 0, 0], [0, 0, 2*r, 0], [0, 0, 0, 2*r]], [[0, 0, 0, 0], [0, 0, 0, 0], [0, 0, 0, 0], [0, 0, 0, 0]], [[0, 0, 0, 0], [0, 0, 0, 0], [0, 0, 0, 0], [0, 0, 0, 0]]]"
      ]
     },
     "execution_count": 3,
     "metadata": {},
     "output_type": "execute_result"
    }
   ],
   "source": [
    "S = vl.tensor.Tensor(\"S\", sp.Function('S')(t,r,theta,phi))\n",
    "dS = S.partial_gradient()\n",
    "\n",
    "dT = T.partial_gradient()\n",
    "\n",
    "ddS = dS.partial_gradient()\n",
    "dg = g.partial_gradient()\n",
    "dT.components"
   ]
  },
  {
   "cell_type": "code",
   "execution_count": 4,
   "id": "85067d63-cbe0-466d-a65b-ffb3aad7c828",
   "metadata": {},
   "outputs": [
    {
     "data": {
      "text/latex": [
       "$[...]\\!\\,^{α}\\!\\,^{β}\\!\\,^{γ} = \\left[\\begin{matrix}\\left[\\begin{matrix}0 & - \\frac{2 \\frac{d}{d r} f{\\left(r \\right)}}{f^{2}{\\left(r \\right)}} & 0 & 0\\\\0 & f{\\left(r \\right)} \\frac{d^{2}}{d r^{2}} S_{r}{\\left(r \\right)} & 0 & 0\\\\0 & - \\frac{L \\left(r \\frac{d}{d r} f{\\left(r \\right)} + 2 f{\\left(r \\right)}\\right)}{r^{3} f{\\left(r \\right)}} & 0 & 0\\\\0 & 0 & 0 & 0\\end{matrix}\\right] & \\left[\\begin{matrix}0 & f{\\left(r \\right)} \\frac{d^{2}}{d r^{2}} S_{r}{\\left(r \\right)} & 0 & 0\\\\0 & 2 \\left(f{\\left(r \\right)} \\frac{d^{2}}{d r^{2}} S_{r}{\\left(r \\right)} + \\frac{d}{d r} S_{r}{\\left(r \\right)} \\frac{d}{d r} f{\\left(r \\right)}\\right) f^{2}{\\left(r \\right)} \\frac{d}{d r} S_{r}{\\left(r \\right)} & 0 & 0\\\\0 & \\frac{L \\left(r \\left(f{\\left(r \\right)} \\frac{d^{2}}{d r^{2}} S_{r}{\\left(r \\right)} + \\frac{d}{d r} S_{r}{\\left(r \\right)} \\frac{d}{d r} f{\\left(r \\right)}\\right) - 2 f{\\left(r \\right)} \\frac{d}{d r} S_{r}{\\left(r \\right)}\\right) f{\\left(r \\right)}}{r^{3}} & 0 & 0\\\\0 & 0 & 0 & 0\\end{matrix}\\right] & \\left[\\begin{matrix}0 & - \\frac{L \\left(r \\frac{d}{d r} f{\\left(r \\right)} + 2 f{\\left(r \\right)}\\right)}{r^{3} f{\\left(r \\right)}} & 0 & 0\\\\0 & \\frac{L \\left(r \\left(f{\\left(r \\right)} \\frac{d^{2}}{d r^{2}} S_{r}{\\left(r \\right)} + \\frac{d}{d r} S_{r}{\\left(r \\right)} \\frac{d}{d r} f{\\left(r \\right)}\\right) - 2 f{\\left(r \\right)} \\frac{d}{d r} S_{r}{\\left(r \\right)}\\right) f{\\left(r \\right)}}{r^{3}} & 0 & 0\\\\0 & - \\frac{4 L^{2} f{\\left(r \\right)}}{r^{5}} & 0 & 0\\\\0 & 0 & 0 & 0\\end{matrix}\\right] & \\left[\\begin{matrix}1 & 0 & 0 & 0\\\\0 & 0 & 0 & 0\\\\0 & 0 & 0 & 0\\\\0 & 0 & 0 & 0\\end{matrix}\\right]\\end{matrix}\\right]$"
      ],
      "text/plain": [
       "Tensor(components=[[[0, -2*Derivative(f(r), r)/f(r)**2, 0, 0], [0, f(r)*Derivative(S_r(r), (r, 2)), 0, 0], [0, -L*(r*Derivative(f(r), r) + 2*f(r))/(r**3*f(r)), 0, 0], [0, 0, 0, 0]], [[0, f(r)*Derivative(S_r(r), (r, 2)), 0, 0], [0, 2*(f(r)*Derivative(S_r(r), (r, 2)) + Derivative(S_r(r), r)*Derivative(f(r), r))*f(r)**2*Derivative(S_r(r), r), 0, 0], [0, L*(r*(f(r)*Derivative(S_r(r), (r, 2)) + Derivative(S_r(r), r)*Derivative(f(r), r)) - 2*f(r)*Derivative(S_r(r), r))*f(r)/r**3, 0, 0], [0, 0, 0, 0]], [[0, -L*(r*Derivative(f(r), r) + 2*f(r))/(r**3*f(r)), 0, 0], [0, L*(r*(f(r)*Derivative(S_r(r), (r, 2)) + Derivative(S_r(r), r)*Derivative(f(r), r)) - 2*f(r)*Derivative(S_r(r), r))*f(r)/r**3, 0, 0], [0, -4*L**2*f(r)/r**5, 0, 0], [0, 0, 0, 0]], [[1, 0, 0, 0], [0, 0, 0, 0], [0, 0, 0, 0], [0, 0, 0, 0]]], indices=[1, 1, 1], name=...)"
      ]
     },
     "execution_count": 4,
     "metadata": {},
     "output_type": "execute_result"
    }
   ],
   "source": [
    "Sr = sp.Function('S_r')(r)\n",
    "L = sp.symbols('L')\n",
    "S = -t + Sr + L * theta\n",
    "S = vl.tensor.Tensor(\"S\", S)\n",
    "u = S.partial_gradient().raise_index(0)\n",
    "\n",
    "proj = u.tensor_product(u)\n",
    "proj = proj.partial_gradient()\n",
    "proj = proj.raise_index(0)\n",
    "proj.components[0,0,3] = 1\n",
    "proj.swap_indices(0,2)"
   ]
  },
  {
   "cell_type": "code",
   "execution_count": 5,
   "id": "9a71dab2-6b3f-4a7c-848d-66efd5e2926f",
   "metadata": {},
   "outputs": [
    {
     "data": {
      "text/latex": [
       "$\\displaystyle \\mathit{S} = L \\theta - t + S_{r}{\\left(r \\right)}$"
      ],
      "text/plain": [
       "<IPython.core.display.Math object>"
      ]
     },
     "metadata": {},
     "output_type": "display_data"
    },
    {
     "data": {
      "text/latex": [
       "$\\displaystyle [\\mathit{∂S⊗v}]\\!\\,_{t}\\!\\,_{t} = -1$"
      ],
      "text/plain": [
       "<IPython.core.display.Math object>"
      ]
     },
     "metadata": {},
     "output_type": "display_data"
    },
    {
     "data": {
      "text/latex": [
       "$\\displaystyle [\\mathit{∂S⊗v}]\\!\\,_{t}\\!\\,_{r} = -2$"
      ],
      "text/plain": [
       "<IPython.core.display.Math object>"
      ]
     },
     "metadata": {},
     "output_type": "display_data"
    },
    {
     "data": {
      "text/latex": [
       "$\\displaystyle [\\mathit{∂S⊗v}]\\!\\,_{t}\\!\\,_{\\theta} = -3$"
      ],
      "text/plain": [
       "<IPython.core.display.Math object>"
      ]
     },
     "metadata": {},
     "output_type": "display_data"
    },
    {
     "data": {
      "text/latex": [
       "$\\displaystyle [\\mathit{∂S⊗v}]\\!\\,_{t}\\!\\,_{\\phi} = -4$"
      ],
      "text/plain": [
       "<IPython.core.display.Math object>"
      ]
     },
     "metadata": {},
     "output_type": "display_data"
    },
    {
     "data": {
      "text/latex": [
       "$\\displaystyle [\\mathit{∂S⊗v}]\\!\\,_{r}\\!\\,_{t} = \\frac{d}{d r} S_{r}{\\left(r \\right)}$"
      ],
      "text/plain": [
       "<IPython.core.display.Math object>"
      ]
     },
     "metadata": {},
     "output_type": "display_data"
    },
    {
     "data": {
      "text/latex": [
       "$\\displaystyle [\\mathit{∂S⊗v}]\\!\\,_{r}\\!\\,_{r} = 2 \\frac{d}{d r} S_{r}{\\left(r \\right)}$"
      ],
      "text/plain": [
       "<IPython.core.display.Math object>"
      ]
     },
     "metadata": {},
     "output_type": "display_data"
    },
    {
     "data": {
      "text/latex": [
       "$\\displaystyle [\\mathit{∂S⊗v}]\\!\\,_{r}\\!\\,_{\\theta} = 3 \\frac{d}{d r} S_{r}{\\left(r \\right)}$"
      ],
      "text/plain": [
       "<IPython.core.display.Math object>"
      ]
     },
     "metadata": {},
     "output_type": "display_data"
    },
    {
     "data": {
      "text/latex": [
       "$\\displaystyle [\\mathit{∂S⊗v}]\\!\\,_{r}\\!\\,_{\\phi} = 4 \\frac{d}{d r} S_{r}{\\left(r \\right)}$"
      ],
      "text/plain": [
       "<IPython.core.display.Math object>"
      ]
     },
     "metadata": {},
     "output_type": "display_data"
    },
    {
     "data": {
      "text/latex": [
       "$\\displaystyle [\\mathit{∂S⊗v}]\\!\\,_{\\theta}\\!\\,_{t} = L$"
      ],
      "text/plain": [
       "<IPython.core.display.Math object>"
      ]
     },
     "metadata": {},
     "output_type": "display_data"
    },
    {
     "data": {
      "text/latex": [
       "$\\displaystyle [\\mathit{∂S⊗v}]\\!\\,_{\\theta}\\!\\,_{r} = 2 L$"
      ],
      "text/plain": [
       "<IPython.core.display.Math object>"
      ]
     },
     "metadata": {},
     "output_type": "display_data"
    },
    {
     "data": {
      "text/latex": [
       "$\\displaystyle [\\mathit{∂S⊗v}]\\!\\,_{\\theta}\\!\\,_{\\theta} = 3 L$"
      ],
      "text/plain": [
       "<IPython.core.display.Math object>"
      ]
     },
     "metadata": {},
     "output_type": "display_data"
    },
    {
     "data": {
      "text/latex": [
       "$\\displaystyle [\\mathit{∂S⊗v}]\\!\\,_{\\theta}\\!\\,_{\\phi} = 4 L$"
      ],
      "text/plain": [
       "<IPython.core.display.Math object>"
      ]
     },
     "metadata": {},
     "output_type": "display_data"
    },
    {
     "data": {
      "text/latex": [
       "$[S(... - ∂∂S)]\\!\\,_{α}\\!\\,_{β} = \\left[\\begin{matrix}- L \\theta + t - S_{r}{\\left(r \\right)} & \\left(L \\theta - t + S_{r}{\\left(r \\right)}\\right) \\frac{d}{d r} S_{r}{\\left(r \\right)} & L \\left(L \\theta - t + S_{r}{\\left(r \\right)}\\right) & 0\\\\- 2 L \\theta + 2 t - 2 S_{r}{\\left(r \\right)} & \\left(2 \\frac{d}{d r} S_{r}{\\left(r \\right)} - \\frac{d^{2}}{d r^{2}} S_{r}{\\left(r \\right)}\\right) \\left(L \\theta - t + S_{r}{\\left(r \\right)}\\right) & 2 L \\left(L \\theta - t + S_{r}{\\left(r \\right)}\\right) & 0\\\\- 3 L \\theta + 3 t - 3 S_{r}{\\left(r \\right)} & 3 \\left(L \\theta - t + S_{r}{\\left(r \\right)}\\right) \\frac{d}{d r} S_{r}{\\left(r \\right)} & 3 L \\left(L \\theta - t + S_{r}{\\left(r \\right)}\\right) & 0\\\\- 4 L \\theta + 4 t - 4 S_{r}{\\left(r \\right)} & 4 \\left(L \\theta - t + S_{r}{\\left(r \\right)}\\right) \\frac{d}{d r} S_{r}{\\left(r \\right)} & 4 L \\left(L \\theta - t + S_{r}{\\left(r \\right)}\\right) & 0\\end{matrix}\\right]$"
      ],
      "text/plain": [
       "Tensor(components=[[-L*theta + t - S_r(r), (L*theta - t + S_r(r))*Derivative(S_r(r), r), L*(L*theta - t + S_r(r)), 0], [-2*L*theta + 2*t - 2*S_r(r), (2*Derivative(S_r(r), r) - Derivative(S_r(r), (r, 2)))*(L*theta - t + S_r(r)), 2*L*(L*theta - t + S_r(r)), 0], [-3*L*theta + 3*t - 3*S_r(r), 3*(L*theta - t + S_r(r))*Derivative(S_r(r), r), 3*L*(L*theta - t + S_r(r)), 0], [-4*L*theta + 4*t - 4*S_r(r), 4*(L*theta - t + S_r(r))*Derivative(S_r(r), r), 4*L*(L*theta - t + S_r(r)), 0]], indices=[-1, -1], name=S(... - ∂∂S))"
      ]
     },
     "execution_count": 5,
     "metadata": {},
     "output_type": "execute_result"
    }
   ],
   "source": [
    "Sr = sp.Function('S_r')(r)\n",
    "L = sp.symbols('L')\n",
    "S = -t + Sr + L * theta\n",
    "S = vl.tensor.Tensor(\"S\", S)\n",
    "\n",
    "S.show_components()\n",
    "\n",
    "u = S.partial_gradient()\n",
    "v = vl.tensor.Tensor(\"v\", [1,2,3,4], [-1])\n",
    "HJ = u.tensor_product(v)\n",
    "T = HJ.swap_indices()\n",
    "\n",
    "HJ.show_components()\n",
    "\n",
    "ddS = u.partial_gradient()\n",
    "K = T - ddS\n",
    "K = S * K\n",
    "K"
   ]
  },
  {
   "cell_type": "code",
   "execution_count": 6,
   "id": "a7cd71d0-497d-48e2-bd04-d41ec85b98b9",
   "metadata": {},
   "outputs": [
    {
     "data": {
      "text/latex": [
       "$\\displaystyle \\mathit{\\eta}\\!\\,_{t}\\!\\,_{t} = -1$"
      ],
      "text/plain": [
       "<IPython.core.display.Math object>"
      ]
     },
     "metadata": {},
     "output_type": "display_data"
    },
    {
     "data": {
      "text/latex": [
       "$\\displaystyle \\mathit{\\eta}\\!\\,_{r}\\!\\,_{r} = 1$"
      ],
      "text/plain": [
       "<IPython.core.display.Math object>"
      ]
     },
     "metadata": {},
     "output_type": "display_data"
    },
    {
     "data": {
      "text/latex": [
       "$\\displaystyle \\mathit{\\eta}\\!\\,_{\\theta}\\!\\,_{\\theta} = 1$"
      ],
      "text/plain": [
       "<IPython.core.display.Math object>"
      ]
     },
     "metadata": {},
     "output_type": "display_data"
    },
    {
     "data": {
      "text/latex": [
       "$\\displaystyle \\mathit{\\eta}\\!\\,_{\\phi}\\!\\,_{\\phi} = 1$"
      ],
      "text/plain": [
       "<IPython.core.display.Math object>"
      ]
     },
     "metadata": {},
     "output_type": "display_data"
    },
    {
     "data": {
      "text/latex": [
       "$[∂(\\eta + fn⊗n)]\\!\\,_{α}\\!\\,_{β}\\!\\,_{γ} = \\left[\\begin{matrix}\\left[\\begin{matrix}0 & 0 & 0 & 0\\\\0 & \\frac{\\partial}{\\partial t} f{\\left(t,r,\\theta,\\phi \\right)} & 2 \\frac{\\partial}{\\partial t} f{\\left(t,r,\\theta,\\phi \\right)} & 3 \\frac{\\partial}{\\partial t} f{\\left(t,r,\\theta,\\phi \\right)}\\\\0 & 2 \\frac{\\partial}{\\partial t} f{\\left(t,r,\\theta,\\phi \\right)} & 4 \\frac{\\partial}{\\partial t} f{\\left(t,r,\\theta,\\phi \\right)} & 6 \\frac{\\partial}{\\partial t} f{\\left(t,r,\\theta,\\phi \\right)}\\\\0 & 3 \\frac{\\partial}{\\partial t} f{\\left(t,r,\\theta,\\phi \\right)} & 6 \\frac{\\partial}{\\partial t} f{\\left(t,r,\\theta,\\phi \\right)} & 9 \\frac{\\partial}{\\partial t} f{\\left(t,r,\\theta,\\phi \\right)}\\end{matrix}\\right] & \\left[\\begin{matrix}0 & 0 & 0 & 0\\\\0 & \\frac{\\partial}{\\partial r} f{\\left(t,r,\\theta,\\phi \\right)} & 2 \\frac{\\partial}{\\partial r} f{\\left(t,r,\\theta,\\phi \\right)} & 3 \\frac{\\partial}{\\partial r} f{\\left(t,r,\\theta,\\phi \\right)}\\\\0 & 2 \\frac{\\partial}{\\partial r} f{\\left(t,r,\\theta,\\phi \\right)} & 4 \\frac{\\partial}{\\partial r} f{\\left(t,r,\\theta,\\phi \\right)} & 6 \\frac{\\partial}{\\partial r} f{\\left(t,r,\\theta,\\phi \\right)}\\\\0 & 3 \\frac{\\partial}{\\partial r} f{\\left(t,r,\\theta,\\phi \\right)} & 6 \\frac{\\partial}{\\partial r} f{\\left(t,r,\\theta,\\phi \\right)} & 9 \\frac{\\partial}{\\partial r} f{\\left(t,r,\\theta,\\phi \\right)}\\end{matrix}\\right] & \\left[\\begin{matrix}0 & 0 & 0 & 0\\\\0 & \\frac{\\partial}{\\partial \\theta} f{\\left(t,r,\\theta,\\phi \\right)} & 2 \\frac{\\partial}{\\partial \\theta} f{\\left(t,r,\\theta,\\phi \\right)} & 3 \\frac{\\partial}{\\partial \\theta} f{\\left(t,r,\\theta,\\phi \\right)}\\\\0 & 2 \\frac{\\partial}{\\partial \\theta} f{\\left(t,r,\\theta,\\phi \\right)} & 4 \\frac{\\partial}{\\partial \\theta} f{\\left(t,r,\\theta,\\phi \\right)} & 6 \\frac{\\partial}{\\partial \\theta} f{\\left(t,r,\\theta,\\phi \\right)}\\\\0 & 3 \\frac{\\partial}{\\partial \\theta} f{\\left(t,r,\\theta,\\phi \\right)} & 6 \\frac{\\partial}{\\partial \\theta} f{\\left(t,r,\\theta,\\phi \\right)} & 9 \\frac{\\partial}{\\partial \\theta} f{\\left(t,r,\\theta,\\phi \\right)}\\end{matrix}\\right] & \\left[\\begin{matrix}0 & 0 & 0 & 0\\\\0 & \\frac{\\partial}{\\partial \\phi} f{\\left(t,r,\\theta,\\phi \\right)} & 2 \\frac{\\partial}{\\partial \\phi} f{\\left(t,r,\\theta,\\phi \\right)} & 3 \\frac{\\partial}{\\partial \\phi} f{\\left(t,r,\\theta,\\phi \\right)}\\\\0 & 2 \\frac{\\partial}{\\partial \\phi} f{\\left(t,r,\\theta,\\phi \\right)} & 4 \\frac{\\partial}{\\partial \\phi} f{\\left(t,r,\\theta,\\phi \\right)} & 6 \\frac{\\partial}{\\partial \\phi} f{\\left(t,r,\\theta,\\phi \\right)}\\\\0 & 3 \\frac{\\partial}{\\partial \\phi} f{\\left(t,r,\\theta,\\phi \\right)} & 6 \\frac{\\partial}{\\partial \\phi} f{\\left(t,r,\\theta,\\phi \\right)} & 9 \\frac{\\partial}{\\partial \\phi} f{\\left(t,r,\\theta,\\phi \\right)}\\end{matrix}\\right]\\end{matrix}\\right]$"
      ],
      "text/plain": [
       "Tensor(components=[[[0, 0, 0, 0], [0, Derivative(f(t, r, theta, phi), t), 2*Derivative(f(t, r, theta, phi), t), 3*Derivative(f(t, r, theta, phi), t)], [0, 2*Derivative(f(t, r, theta, phi), t), 4*Derivative(f(t, r, theta, phi), t), 6*Derivative(f(t, r, theta, phi), t)], [0, 3*Derivative(f(t, r, theta, phi), t), 6*Derivative(f(t, r, theta, phi), t), 9*Derivative(f(t, r, theta, phi), t)]], [[0, 0, 0, 0], [0, Derivative(f(t, r, theta, phi), r), 2*Derivative(f(t, r, theta, phi), r), 3*Derivative(f(t, r, theta, phi), r)], [0, 2*Derivative(f(t, r, theta, phi), r), 4*Derivative(f(t, r, theta, phi), r), 6*Derivative(f(t, r, theta, phi), r)], [0, 3*Derivative(f(t, r, theta, phi), r), 6*Derivative(f(t, r, theta, phi), r), 9*Derivative(f(t, r, theta, phi), r)]], [[0, 0, 0, 0], [0, Derivative(f(t, r, theta, phi), theta), 2*Derivative(f(t, r, theta, phi), theta), 3*Derivative(f(t, r, theta, phi), theta)], [0, 2*Derivative(f(t, r, theta, phi), theta), 4*Derivative(f(t, r, theta, phi), theta), 6*Derivative(f(t, r, theta, phi), theta)], [0, 3*Derivative(f(t, r, theta, phi), theta), 6*Derivative(f(t, r, theta, phi), theta), 9*Derivative(f(t, r, theta, phi), theta)]], [[0, 0, 0, 0], [0, Derivative(f(t, r, theta, phi), phi), 2*Derivative(f(t, r, theta, phi), phi), 3*Derivative(f(t, r, theta, phi), phi)], [0, 2*Derivative(f(t, r, theta, phi), phi), 4*Derivative(f(t, r, theta, phi), phi), 6*Derivative(f(t, r, theta, phi), phi)], [0, 3*Derivative(f(t, r, theta, phi), phi), 6*Derivative(f(t, r, theta, phi), phi), 9*Derivative(f(t, r, theta, phi), phi)]]], indices=[-1, -1, -1], name=∂(\\eta + fn⊗n))"
      ]
     },
     "execution_count": 6,
     "metadata": {},
     "output_type": "execute_result"
    }
   ],
   "source": [
    "f = vl.tensor.Tensor(\"f\", sp.Function('f')(t,r,theta,phi))\n",
    "eta = vl.tensor.Tensor(r\"\\eta\", sp.diag(-1,1,1,1), [-1,-1])\n",
    "n = vl.tensor.Tensor(\"n\", [0,1,2,3], [-1])\n",
    "\n",
    "eta.show_components()\n",
    "\n",
    "g = eta + f * n * n\n",
    "g\n",
    "dg = g.partial_gradient()\n",
    "dg"
   ]
  },
  {
   "cell_type": "code",
   "execution_count": 7,
   "id": "e96221ff-b960-4549-96d5-1ce372ba4445",
   "metadata": {},
   "outputs": [
    {
     "name": "stdout",
     "output_type": "stream",
     "text": [
      "[[-f(r), 0, 0, 0], [0, 1/f(r), 0, 0], [0, 0, r**2, 0], [0, 0, 0, r**2*sin(theta)**2]]\n",
      "Christoffel symbols computed in 0.083s\n"
     ]
    },
    {
     "data": {
      "text/latex": [
       "$\\displaystyle [\\mathit{...}]\\!\\,^{r} = - \\frac{d}{d r} f{\\left(r \\right)} - \\frac{2 f{\\left(r \\right)}}{r}$"
      ],
      "text/plain": [
       "<IPython.core.display.Math object>"
      ]
     },
     "metadata": {},
     "output_type": "display_data"
    },
    {
     "data": {
      "text/latex": [
       "$\\displaystyle [\\mathit{...}]\\!\\,^{\\theta} = - \\frac{1}{r^{2} \\tan{\\left(\\theta \\right)}}$"
      ],
      "text/plain": [
       "<IPython.core.display.Math object>"
      ]
     },
     "metadata": {},
     "output_type": "display_data"
    },
    {
     "data": {
      "text/latex": [
       "$\\displaystyle [\\mathit{...}]\\!\\,_{r} = \\frac{2}{r}$"
      ],
      "text/plain": [
       "<IPython.core.display.Math object>"
      ]
     },
     "metadata": {},
     "output_type": "display_data"
    },
    {
     "data": {
      "text/latex": [
       "$\\displaystyle [\\mathit{...}]\\!\\,_{\\theta} = \\frac{1}{\\tan{\\left(\\theta \\right)}}$"
      ],
      "text/plain": [
       "<IPython.core.display.Math object>"
      ]
     },
     "metadata": {},
     "output_type": "display_data"
    },
    {
     "data": {
      "text/latex": [
       "$\\displaystyle [\\mathit{...}]\\!\\,_{t}\\!\\,_{t}\\!\\,^{r} = \\frac{f{\\left(r \\right)} \\frac{d}{d r} f{\\left(r \\right)}}{2}$"
      ],
      "text/plain": [
       "<IPython.core.display.Math object>"
      ]
     },
     "metadata": {},
     "output_type": "display_data"
    },
    {
     "data": {
      "text/latex": [
       "$\\displaystyle [\\mathit{...}]\\!\\,_{t}\\!\\,_{r}\\!\\,^{t} = \\frac{\\frac{d}{d r} f{\\left(r \\right)}}{2 f{\\left(r \\right)}}$"
      ],
      "text/plain": [
       "<IPython.core.display.Math object>"
      ]
     },
     "metadata": {},
     "output_type": "display_data"
    },
    {
     "data": {
      "text/latex": [
       "$\\displaystyle [\\mathit{...}]\\!\\,_{r}\\!\\,_{t}\\!\\,^{t} = \\frac{\\frac{d}{d r} f{\\left(r \\right)}}{2 f{\\left(r \\right)}}$"
      ],
      "text/plain": [
       "<IPython.core.display.Math object>"
      ]
     },
     "metadata": {},
     "output_type": "display_data"
    },
    {
     "data": {
      "text/latex": [
       "$\\displaystyle [\\mathit{...}]\\!\\,_{r}\\!\\,_{r}\\!\\,^{r} = - \\frac{\\frac{d}{d r} f{\\left(r \\right)}}{2 f{\\left(r \\right)}}$"
      ],
      "text/plain": [
       "<IPython.core.display.Math object>"
      ]
     },
     "metadata": {},
     "output_type": "display_data"
    },
    {
     "data": {
      "text/latex": [
       "$\\displaystyle [\\mathit{...}]\\!\\,_{r}\\!\\,_{\\theta}\\!\\,^{\\theta} = \\frac{1}{r}$"
      ],
      "text/plain": [
       "<IPython.core.display.Math object>"
      ]
     },
     "metadata": {},
     "output_type": "display_data"
    },
    {
     "data": {
      "text/latex": [
       "$\\displaystyle [\\mathit{...}]\\!\\,_{r}\\!\\,_{\\phi}\\!\\,^{\\phi} = \\frac{1}{r}$"
      ],
      "text/plain": [
       "<IPython.core.display.Math object>"
      ]
     },
     "metadata": {},
     "output_type": "display_data"
    },
    {
     "data": {
      "text/latex": [
       "$\\displaystyle [\\mathit{...}]\\!\\,_{\\theta}\\!\\,_{r}\\!\\,^{\\theta} = \\frac{1}{r}$"
      ],
      "text/plain": [
       "<IPython.core.display.Math object>"
      ]
     },
     "metadata": {},
     "output_type": "display_data"
    },
    {
     "data": {
      "text/latex": [
       "$\\displaystyle [\\mathit{...}]\\!\\,_{\\theta}\\!\\,_{\\theta}\\!\\,^{r} = - r f{\\left(r \\right)}$"
      ],
      "text/plain": [
       "<IPython.core.display.Math object>"
      ]
     },
     "metadata": {},
     "output_type": "display_data"
    },
    {
     "data": {
      "text/latex": [
       "$\\displaystyle [\\mathit{...}]\\!\\,_{\\theta}\\!\\,_{\\phi}\\!\\,^{\\phi} = \\frac{1}{\\tan{\\left(\\theta \\right)}}$"
      ],
      "text/plain": [
       "<IPython.core.display.Math object>"
      ]
     },
     "metadata": {},
     "output_type": "display_data"
    },
    {
     "data": {
      "text/latex": [
       "$\\displaystyle [\\mathit{...}]\\!\\,_{\\phi}\\!\\,_{r}\\!\\,^{\\phi} = \\frac{1}{r}$"
      ],
      "text/plain": [
       "<IPython.core.display.Math object>"
      ]
     },
     "metadata": {},
     "output_type": "display_data"
    },
    {
     "data": {
      "text/latex": [
       "$\\displaystyle [\\mathit{...}]\\!\\,_{\\phi}\\!\\,_{\\theta}\\!\\,^{\\phi} = \\frac{1}{\\tan{\\left(\\theta \\right)}}$"
      ],
      "text/plain": [
       "<IPython.core.display.Math object>"
      ]
     },
     "metadata": {},
     "output_type": "display_data"
    },
    {
     "data": {
      "text/latex": [
       "$\\displaystyle [\\mathit{...}]\\!\\,_{\\phi}\\!\\,_{\\phi}\\!\\,^{r} = - r f{\\left(r \\right)} \\sin^{2}{\\left(\\theta \\right)}$"
      ],
      "text/plain": [
       "<IPython.core.display.Math object>"
      ]
     },
     "metadata": {},
     "output_type": "display_data"
    },
    {
     "data": {
      "text/latex": [
       "$\\displaystyle [\\mathit{...}]\\!\\,_{\\phi}\\!\\,_{\\phi}\\!\\,^{\\theta} = - \\frac{\\sin{\\left(2 \\theta \\right)}}{2}$"
      ],
      "text/plain": [
       "<IPython.core.display.Math object>"
      ]
     },
     "metadata": {},
     "output_type": "display_data"
    }
   ],
   "source": [
    "print(vl.spacetime.metric)\n",
    "vl.spacetime.ensure_christoffel()\n",
    "\n",
    "Gamma = vl.tensor.Tensor(\"\\Gamma\", vl.spacetime.christoffel)\n",
    "Gamma = Gamma.reorder_indices([1,2,0])\n",
    "\n",
    "Gamma1 = Gamma.contract(0,1)\n",
    "Gamma2 = Gamma.contract(0,2)\n",
    "\n",
    "Gamma1.show_components()\n",
    "Gamma2.show_components()\n",
    "\n",
    "Gamma.show_components()"
   ]
  },
  {
   "cell_type": "code",
   "execution_count": 8,
   "id": "025df95a-149d-487c-9ed3-2802a9775693",
   "metadata": {},
   "outputs": [
    {
     "data": {
      "text/latex": [
       "$[∂S]\\!\\,_{α} = \\left[\\begin{matrix}-1 & \\frac{d}{d r} S_{r}{\\left(r \\right)} & L & 0\\end{matrix}\\right]$"
      ],
      "text/plain": [
       "Tensor(components=[-1, Derivative(S_r(r), r), L, 0], indices=[-1], name=∂S)"
      ]
     },
     "execution_count": 8,
     "metadata": {},
     "output_type": "execute_result"
    }
   ],
   "source": [
    "\n",
    "\n",
    "S = -t + L * theta + Sr\n",
    "\n",
    "S = vl.tensor.Tensor(\"S\", S)\n",
    "\n",
    "dS = S.partial_gradient()\n",
    "dS"
   ]
  },
  {
   "cell_type": "code",
   "execution_count": 9,
   "id": "7a3b46bb-6867-451f-ba66-b2f926565ae6",
   "metadata": {},
   "outputs": [
    {
     "data": {
      "text/latex": [
       "$g = 4$"
      ],
      "text/plain": [
       "Tensor(components=4, indices=[], name=g)"
      ]
     },
     "execution_count": 9,
     "metadata": {},
     "output_type": "execute_result"
    }
   ],
   "source": [
    "g = vl.tensor.Tensor(\"g\", vl.spacetime.metric, [-1,-1])\n",
    "g.contract(0,1)"
   ]
  },
  {
   "cell_type": "code",
   "execution_count": 10,
   "id": "4ae2e125-68f4-4b72-a28b-2671cfe3111a",
   "metadata": {},
   "outputs": [
    {
     "data": {
      "text/latex": [
       "$\\displaystyle \\mathit{∇∇S} = \\frac{L}{r^{2} \\tan{\\left(\\theta \\right)}} + f{\\left(r \\right)} \\frac{d^{2}}{d r^{2}} R{\\left(r \\right)} + \\frac{d}{d r} R{\\left(r \\right)} \\frac{d}{d r} f{\\left(r \\right)} + \\frac{2 f{\\left(r \\right)} \\frac{d}{d r} R{\\left(r \\right)}}{r}$"
      ],
      "text/plain": [
       "<IPython.core.display.Math object>"
      ]
     },
     "metadata": {},
     "output_type": "display_data"
    }
   ],
   "source": [
    "R = sp.Function('R')(r)\n",
    "S = -t + L * theta + R\n",
    "S = vl.tensor.Tensor(\"S\", S)\n",
    "expansion = S.covariant_gradient().covariant_gradient().contract(0,1)\n",
    "expansion.components = expansion.components.simplify()\n",
    "expansion.show_components()"
   ]
  },
  {
   "cell_type": "code",
   "execution_count": 11,
   "id": "5a22f345-6bef-4d35-965f-a095fb8968c6",
   "metadata": {},
   "outputs": [
    {
     "data": {
      "text/latex": [
       "$\\displaystyle \\mathit{Γ}\\!\\,^{r}\\!\\,_{t}\\!\\,_{t} = \\frac{f{\\left(r \\right)} \\frac{d}{d r} f{\\left(r \\right)}}{2}$"
      ],
      "text/plain": [
       "<IPython.core.display.Math object>"
      ]
     },
     "metadata": {},
     "output_type": "display_data"
    }
   ],
   "source": [
    "vl.spacetime.christoffel.show_component([1,0,0])"
   ]
  },
  {
   "cell_type": "code",
   "execution_count": 12,
   "id": "f7ec3144-b45c-4283-8617-0f34b0bd6b1b",
   "metadata": {},
   "outputs": [
    {
     "data": {
      "text/latex": [
       "$[∇g]\\!\\,_{α}\\!\\,_{β}\\!\\,_{γ} = \\left[\\begin{matrix}\\left[\\begin{matrix}0 & 0 & 0 & 0\\\\0 & 0 & 0 & 0\\\\0 & 0 & 0 & 0\\\\0 & 0 & 0 & 0\\end{matrix}\\right] & \\left[\\begin{matrix}0 & 0 & 0 & 0\\\\0 & 0 & 0 & 0\\\\0 & 0 & 0 & 0\\\\0 & 0 & 0 & 0\\end{matrix}\\right] & \\left[\\begin{matrix}0 & 0 & 0 & 0\\\\0 & 0 & 0 & 0\\\\0 & 0 & 0 & 0\\\\0 & 0 & 0 & 0\\end{matrix}\\right] & \\left[\\begin{matrix}0 & 0 & 0 & 0\\\\0 & 0 & 0 & 0\\\\0 & 0 & 0 & 0\\\\0 & 0 & 0 & 0\\end{matrix}\\right]\\end{matrix}\\right]$"
      ],
      "text/plain": [
       "Tensor(components=[[[0, 0, 0, 0], [0, 0, 0, 0], [0, 0, 0, 0], [0, 0, 0, 0]], [[0, 0, 0, 0], [0, 0, 0, 0], [0, 0, 0, 0], [0, 0, 0, 0]], [[0, 0, 0, 0], [0, 0, 0, 0], [0, 0, 0, 0], [0, 0, 0, 0]], [[0, 0, 0, 0], [0, 0, 0, 0], [0, 0, 0, 0], [0, 0, 0, 0]]], indices=[-1, -1, -1], name=∇g)"
      ]
     },
     "execution_count": 12,
     "metadata": {},
     "output_type": "execute_result"
    }
   ],
   "source": [
    "g.covariant_gradient()"
   ]
  },
  {
   "cell_type": "code",
   "execution_count": 13,
   "id": "0ca8beaa-f93f-46dd-9267-4ad79b328461",
   "metadata": {},
   "outputs": [
    {
     "data": {
      "text/latex": [
       "$[((∇T + ...) + ...)]\\!\\,_{α}\\!\\,_{β}\\!\\,_{γ} = \\left[\\begin{matrix}\\left[\\begin{matrix}0 & 0 & 0 & 0\\\\0 & 0 & 0 & 0\\\\0 & 0 & 0 & 0\\\\0 & 0 & 0 & 0\\end{matrix}\\right] & \\left[\\begin{matrix}0 & 0 & 0 & 0\\\\0 & 0 & 0 & 0\\\\0 & 0 & 0 & 0\\\\0 & 0 & 0 & 0\\end{matrix}\\right] & \\left[\\begin{matrix}0 & 0 & 0 & 0\\\\0 & 0 & 0 & 0\\\\0 & 0 & 0 & 0\\\\0 & 0 & 0 & 0\\end{matrix}\\right] & \\left[\\begin{matrix}0 & 0 & 0 & 0\\\\0 & 0 & 0 & 0\\\\0 & 0 & 0 & 0\\\\0 & 0 & 0 & 0\\end{matrix}\\right]\\end{matrix}\\right]$"
      ],
      "text/plain": [
       "Tensor(components=[[[0, 0, 0, 0], [0, 0, 0, 0], [0, 0, 0, 0], [0, 0, 0, 0]], [[0, 0, 0, 0], [0, 0, 0, 0], [0, 0, 0, 0], [0, 0, 0, 0]], [[0, 0, 0, 0], [0, 0, 0, 0], [0, 0, 0, 0], [0, 0, 0, 0]], [[0, 0, 0, 0], [0, 0, 0, 0], [0, 0, 0, 0], [0, 0, 0, 0]]], indices=[-1, -1, -1], name=((∇T + ...) + ...))"
      ]
     },
     "execution_count": 13,
     "metadata": {},
     "output_type": "execute_result"
    }
   ],
   "source": [
    "T = vl.tensor.Tensor(\"T\", sp.diag(0,0,r**4, r**4 * sp.sin(theta)**2), [-1,-1])\n",
    "dT = T.covariant_gradient()\n",
    "killing_lhs = dT + dT.reorder_indices([1,2,0]) + dT.reorder_indices([2,0,1])\n",
    "killing_lhs"
   ]
  },
  {
   "cell_type": "code",
   "execution_count": 14,
   "id": "8420b195-807c-445b-8fe9-e170879116f1",
   "metadata": {},
   "outputs": [
    {
     "name": "stdout",
     "output_type": "stream",
     "text": [
      "Christoffel symbols computed in 0.139s\n",
      "Riemann tensor etc. computed in 1.215s\n"
     ]
    },
    {
     "data": {
      "text/latex": [
       "$\\displaystyle \\mathit{R}\\!\\,^{t}\\!\\,_{r}\\!\\,_{t}\\!\\,_{r} = \\frac{2 m r - 3 q^{2}}{r^{2} \\left(- 2 m r + q^{2} + r^{2}\\right)}$"
      ],
      "text/plain": [
       "<IPython.core.display.Math object>"
      ]
     },
     "metadata": {},
     "output_type": "display_data"
    },
    {
     "data": {
      "text/latex": [
       "$\\displaystyle \\mathit{R}\\!\\,^{t}\\!\\,_{r}\\!\\,_{r}\\!\\,_{t} = \\frac{- 2 m r + 3 q^{2}}{r^{2} \\left(- 2 m r + q^{2} + r^{2}\\right)}$"
      ],
      "text/plain": [
       "<IPython.core.display.Math object>"
      ]
     },
     "metadata": {},
     "output_type": "display_data"
    },
    {
     "data": {
      "text/latex": [
       "$\\displaystyle \\mathit{R}\\!\\,^{t}\\!\\,_{\\theta}\\!\\,_{t}\\!\\,_{\\theta} = \\frac{- m r + q^{2}}{r^{2}}$"
      ],
      "text/plain": [
       "<IPython.core.display.Math object>"
      ]
     },
     "metadata": {},
     "output_type": "display_data"
    },
    {
     "data": {
      "text/latex": [
       "$\\displaystyle \\mathit{R}\\!\\,^{t}\\!\\,_{\\theta}\\!\\,_{\\theta}\\!\\,_{t} = \\frac{m r - q^{2}}{r^{2}}$"
      ],
      "text/plain": [
       "<IPython.core.display.Math object>"
      ]
     },
     "metadata": {},
     "output_type": "display_data"
    },
    {
     "data": {
      "text/latex": [
       "$\\displaystyle \\mathit{R}\\!\\,^{t}\\!\\,_{\\phi}\\!\\,_{t}\\!\\,_{\\phi} = \\frac{\\left(- m r + q^{2}\\right) \\sin^{2}{\\left(\\theta \\right)}}{r^{2}}$"
      ],
      "text/plain": [
       "<IPython.core.display.Math object>"
      ]
     },
     "metadata": {},
     "output_type": "display_data"
    },
    {
     "data": {
      "text/latex": [
       "$\\displaystyle \\mathit{R}\\!\\,^{t}\\!\\,_{\\phi}\\!\\,_{\\phi}\\!\\,_{t} = \\frac{\\left(m r - q^{2}\\right) \\sin^{2}{\\left(\\theta \\right)}}{r^{2}}$"
      ],
      "text/plain": [
       "<IPython.core.display.Math object>"
      ]
     },
     "metadata": {},
     "output_type": "display_data"
    },
    {
     "data": {
      "text/latex": [
       "$\\displaystyle \\mathit{R}\\!\\,^{r}\\!\\,_{t}\\!\\,_{t}\\!\\,_{r} = \\frac{\\left(2 m r - 3 q^{2}\\right) \\left(- 2 m r + q^{2} + r^{2}\\right)}{r^{6}}$"
      ],
      "text/plain": [
       "<IPython.core.display.Math object>"
      ]
     },
     "metadata": {},
     "output_type": "display_data"
    },
    {
     "data": {
      "text/latex": [
       "$\\displaystyle \\mathit{R}\\!\\,^{r}\\!\\,_{t}\\!\\,_{r}\\!\\,_{t} = - \\frac{\\left(2 m r - 3 q^{2}\\right) \\left(- 2 m r + q^{2} + r^{2}\\right)}{r^{6}}$"
      ],
      "text/plain": [
       "<IPython.core.display.Math object>"
      ]
     },
     "metadata": {},
     "output_type": "display_data"
    },
    {
     "data": {
      "text/latex": [
       "$\\displaystyle \\mathit{R}\\!\\,^{r}\\!\\,_{\\theta}\\!\\,_{r}\\!\\,_{\\theta} = \\frac{- m r + q^{2}}{r^{2}}$"
      ],
      "text/plain": [
       "<IPython.core.display.Math object>"
      ]
     },
     "metadata": {},
     "output_type": "display_data"
    },
    {
     "data": {
      "text/latex": [
       "$\\displaystyle \\mathit{R}\\!\\,^{r}\\!\\,_{\\theta}\\!\\,_{\\theta}\\!\\,_{r} = \\frac{m r - q^{2}}{r^{2}}$"
      ],
      "text/plain": [
       "<IPython.core.display.Math object>"
      ]
     },
     "metadata": {},
     "output_type": "display_data"
    },
    {
     "data": {
      "text/latex": [
       "$\\displaystyle \\mathit{R}\\!\\,^{r}\\!\\,_{\\phi}\\!\\,_{r}\\!\\,_{\\phi} = \\frac{\\left(- m r + q^{2}\\right) \\sin^{2}{\\left(\\theta \\right)}}{r^{2}}$"
      ],
      "text/plain": [
       "<IPython.core.display.Math object>"
      ]
     },
     "metadata": {},
     "output_type": "display_data"
    },
    {
     "data": {
      "text/latex": [
       "$\\displaystyle \\mathit{R}\\!\\,^{r}\\!\\,_{\\phi}\\!\\,_{\\phi}\\!\\,_{r} = \\frac{\\left(m r - q^{2}\\right) \\sin^{2}{\\left(\\theta \\right)}}{r^{2}}$"
      ],
      "text/plain": [
       "<IPython.core.display.Math object>"
      ]
     },
     "metadata": {},
     "output_type": "display_data"
    },
    {
     "data": {
      "text/latex": [
       "$\\displaystyle \\mathit{R}\\!\\,^{\\theta}\\!\\,_{t}\\!\\,_{t}\\!\\,_{\\theta} = - \\frac{\\left(m r - q^{2}\\right) \\left(- 2 m r + q^{2} + r^{2}\\right)}{r^{6}}$"
      ],
      "text/plain": [
       "<IPython.core.display.Math object>"
      ]
     },
     "metadata": {},
     "output_type": "display_data"
    },
    {
     "data": {
      "text/latex": [
       "$\\displaystyle \\mathit{R}\\!\\,^{\\theta}\\!\\,_{t}\\!\\,_{\\theta}\\!\\,_{t} = \\frac{\\left(m r - q^{2}\\right) \\left(- 2 m r + q^{2} + r^{2}\\right)}{r^{6}}$"
      ],
      "text/plain": [
       "<IPython.core.display.Math object>"
      ]
     },
     "metadata": {},
     "output_type": "display_data"
    },
    {
     "data": {
      "text/latex": [
       "$\\displaystyle \\mathit{R}\\!\\,^{\\theta}\\!\\,_{r}\\!\\,_{r}\\!\\,_{\\theta} = \\frac{m r - q^{2}}{r^{2} \\left(- 2 m r + q^{2} + r^{2}\\right)}$"
      ],
      "text/plain": [
       "<IPython.core.display.Math object>"
      ]
     },
     "metadata": {},
     "output_type": "display_data"
    },
    {
     "data": {
      "text/latex": [
       "$\\displaystyle \\mathit{R}\\!\\,^{\\theta}\\!\\,_{r}\\!\\,_{\\theta}\\!\\,_{r} = \\frac{- m r + q^{2}}{r^{2} \\left(- 2 m r + q^{2} + r^{2}\\right)}$"
      ],
      "text/plain": [
       "<IPython.core.display.Math object>"
      ]
     },
     "metadata": {},
     "output_type": "display_data"
    },
    {
     "data": {
      "text/latex": [
       "$\\displaystyle \\mathit{R}\\!\\,^{\\theta}\\!\\,_{\\phi}\\!\\,_{\\theta}\\!\\,_{\\phi} = \\frac{\\left(2 m r - q^{2}\\right) \\sin^{2}{\\left(\\theta \\right)}}{r^{2}}$"
      ],
      "text/plain": [
       "<IPython.core.display.Math object>"
      ]
     },
     "metadata": {},
     "output_type": "display_data"
    },
    {
     "data": {
      "text/latex": [
       "$\\displaystyle \\mathit{R}\\!\\,^{\\theta}\\!\\,_{\\phi}\\!\\,_{\\phi}\\!\\,_{\\theta} = \\frac{\\left(- 2 m r + q^{2}\\right) \\sin^{2}{\\left(\\theta \\right)}}{r^{2}}$"
      ],
      "text/plain": [
       "<IPython.core.display.Math object>"
      ]
     },
     "metadata": {},
     "output_type": "display_data"
    },
    {
     "data": {
      "text/latex": [
       "$\\displaystyle \\mathit{R}\\!\\,^{\\phi}\\!\\,_{t}\\!\\,_{t}\\!\\,_{\\phi} = - \\frac{\\left(m r - q^{2}\\right) \\left(- 2 m r + q^{2} + r^{2}\\right)}{r^{6}}$"
      ],
      "text/plain": [
       "<IPython.core.display.Math object>"
      ]
     },
     "metadata": {},
     "output_type": "display_data"
    },
    {
     "data": {
      "text/latex": [
       "$\\displaystyle \\mathit{R}\\!\\,^{\\phi}\\!\\,_{t}\\!\\,_{\\phi}\\!\\,_{t} = \\frac{\\left(m r - q^{2}\\right) \\left(- 2 m r + q^{2} + r^{2}\\right)}{r^{6}}$"
      ],
      "text/plain": [
       "<IPython.core.display.Math object>"
      ]
     },
     "metadata": {},
     "output_type": "display_data"
    },
    {
     "data": {
      "text/latex": [
       "$\\displaystyle \\mathit{R}\\!\\,^{\\phi}\\!\\,_{r}\\!\\,_{r}\\!\\,_{\\phi} = \\frac{m r - q^{2}}{r^{2} \\left(- 2 m r + q^{2} + r^{2}\\right)}$"
      ],
      "text/plain": [
       "<IPython.core.display.Math object>"
      ]
     },
     "metadata": {},
     "output_type": "display_data"
    },
    {
     "data": {
      "text/latex": [
       "$\\displaystyle \\mathit{R}\\!\\,^{\\phi}\\!\\,_{r}\\!\\,_{\\phi}\\!\\,_{r} = \\frac{- m r + q^{2}}{r^{2} \\left(- 2 m r + q^{2} + r^{2}\\right)}$"
      ],
      "text/plain": [
       "<IPython.core.display.Math object>"
      ]
     },
     "metadata": {},
     "output_type": "display_data"
    },
    {
     "data": {
      "text/latex": [
       "$\\displaystyle \\mathit{R}\\!\\,^{\\phi}\\!\\,_{\\theta}\\!\\,_{\\theta}\\!\\,_{\\phi} = \\frac{- 2 m r + q^{2}}{r^{2}}$"
      ],
      "text/plain": [
       "<IPython.core.display.Math object>"
      ]
     },
     "metadata": {},
     "output_type": "display_data"
    },
    {
     "data": {
      "text/latex": [
       "$\\displaystyle \\mathit{R}\\!\\,^{\\phi}\\!\\,_{\\theta}\\!\\,_{\\phi}\\!\\,_{\\theta} = \\frac{2 m r - q^{2}}{r^{2}}$"
      ],
      "text/plain": [
       "<IPython.core.display.Math object>"
      ]
     },
     "metadata": {},
     "output_type": "display_data"
    },
    {
     "data": {
      "text/latex": [
       "$\\displaystyle \\mathit{R}\\!\\,_{t}\\!\\,_{t} = \\frac{q^{2} \\left(- 2 m r + q^{2} + r^{2}\\right)}{r^{6}}$"
      ],
      "text/plain": [
       "<IPython.core.display.Math object>"
      ]
     },
     "metadata": {},
     "output_type": "display_data"
    },
    {
     "data": {
      "text/latex": [
       "$\\displaystyle \\mathit{R}\\!\\,_{r}\\!\\,_{r} = - \\frac{q^{2}}{r^{2} \\left(- 2 m r + q^{2} + r^{2}\\right)}$"
      ],
      "text/plain": [
       "<IPython.core.display.Math object>"
      ]
     },
     "metadata": {},
     "output_type": "display_data"
    },
    {
     "data": {
      "text/latex": [
       "$\\displaystyle \\mathit{R}\\!\\,_{\\theta}\\!\\,_{\\theta} = \\frac{q^{2}}{r^{2}}$"
      ],
      "text/plain": [
       "<IPython.core.display.Math object>"
      ]
     },
     "metadata": {},
     "output_type": "display_data"
    },
    {
     "data": {
      "text/latex": [
       "$\\displaystyle \\mathit{R}\\!\\,_{\\phi}\\!\\,_{\\phi} = \\frac{q^{2} \\sin^{2}{\\left(\\theta \\right)}}{r^{2}}$"
      ],
      "text/plain": [
       "<IPython.core.display.Math object>"
      ]
     },
     "metadata": {},
     "output_type": "display_data"
    },
    {
     "data": {
      "text/latex": [
       "$\\displaystyle \\mathit{R} = 0$"
      ],
      "text/plain": [
       "<IPython.core.display.Math object>"
      ]
     },
     "metadata": {},
     "output_type": "display_data"
    },
    {
     "ename": "AttributeError",
     "evalue": "'NoneType' object has no attribute 'show_components'",
     "output_type": "error",
     "traceback": [
      "\u001b[1;31m---------------------------------------------------------------------------\u001b[0m",
      "\u001b[1;31mAttributeError\u001b[0m                            Traceback (most recent call last)",
      "Cell \u001b[1;32mIn[14], line 12\u001b[0m\n\u001b[0;32m     10\u001b[0m vl\u001b[38;5;241m.\u001b[39mspacetime\u001b[38;5;241m.\u001b[39mricci_t\u001b[38;5;241m.\u001b[39mshow_components()\n\u001b[0;32m     11\u001b[0m vl\u001b[38;5;241m.\u001b[39mspacetime\u001b[38;5;241m.\u001b[39mricci_s\u001b[38;5;241m.\u001b[39mshow_components()\n\u001b[1;32m---> 12\u001b[0m \u001b[43mvl\u001b[49m\u001b[38;5;241;43m.\u001b[39;49m\u001b[43mspacetime\u001b[49m\u001b[38;5;241;43m.\u001b[39;49m\u001b[43meinstein\u001b[49m\u001b[38;5;241;43m.\u001b[39;49m\u001b[43mshow_components\u001b[49m()\n\u001b[0;32m     14\u001b[0m vl\u001b[38;5;241m.\u001b[39mspacetime\u001b[38;5;241m.\u001b[39mensure_kretschmann()\n\u001b[0;32m     15\u001b[0m vl\u001b[38;5;241m.\u001b[39mspacetime\u001b[38;5;241m.\u001b[39mkretschmann\u001b[38;5;241m.\u001b[39mshow_components()\n",
      "\u001b[1;31mAttributeError\u001b[0m: 'NoneType' object has no attribute 'show_components'"
     ]
    }
   ],
   "source": [
    "coords = t,r,theta,phi = sp.symbols('t r theta phi')\n",
    "m, q = sp.symbols('m q')\n",
    "f = sp.Function('f')(r)\n",
    "g = vl.tensor.Tensor(\"g\", sp.MutableDenseNDimArray(sp.diag(-f,f**-1,r**2, r**2 * sp.sin(theta)**2)), [-1,-1])\n",
    "g = g.subs(f, 1 - (2*m)/r + q**2/r**2)\n",
    "vl.spacetime.set_metric_and_coordinates(g, coords)\n",
    "\n",
    "vl.spacetime.ensure_curvature()\n",
    "vl.spacetime.riemann.show_components()\n",
    "vl.spacetime.ricci_t.show_components()\n",
    "vl.spacetime.ricci_s.show_components()\n",
    "vl.spacetime.einstein.show_components()\n",
    "\n",
    "vl.spacetime.ensure_kretschmann()\n",
    "vl.spacetime.kretschmann.show_components()\n",
    "\n",
    "vl.spacetime.ensure_weyl()\n",
    "vl.spacetime.weyl.show_components()\n",
    "vl.spacetime.weyl.contract(0,2).show_components()"
   ]
  },
  {
   "cell_type": "code",
   "execution_count": 72,
   "id": "954b1ab5-eeb9-44c1-ab6c-e44c45d9be7f",
   "metadata": {},
   "outputs": [
    {
     "name": "stdout",
     "output_type": "stream",
     "text": [
      "Christoffel symbols computed in 0.089s\n",
      "Riemann tensor etc. computed in 0.809s\n"
     ]
    },
    {
     "data": {
      "text/latex": [
       "$\\displaystyle \\mathit{R}\\!\\,^{t}\\!\\,_{r}\\!\\,_{t}\\!\\,_{r} = a{\\left(t \\right)} \\frac{d^{2}}{d t^{2}} a{\\left(t \\right)}$"
      ],
      "text/plain": [
       "<IPython.core.display.Math object>"
      ]
     },
     "metadata": {},
     "output_type": "display_data"
    },
    {
     "data": {
      "text/latex": [
       "$\\displaystyle \\mathit{R}\\!\\,^{t}\\!\\,_{r}\\!\\,_{r}\\!\\,_{t} = - a{\\left(t \\right)} \\frac{d^{2}}{d t^{2}} a{\\left(t \\right)}$"
      ],
      "text/plain": [
       "<IPython.core.display.Math object>"
      ]
     },
     "metadata": {},
     "output_type": "display_data"
    },
    {
     "data": {
      "text/latex": [
       "$\\displaystyle \\mathit{R}\\!\\,^{t}\\!\\,_{\\theta}\\!\\,_{t}\\!\\,_{\\theta} = r^{2} a{\\left(t \\right)} \\frac{d^{2}}{d t^{2}} a{\\left(t \\right)}$"
      ],
      "text/plain": [
       "<IPython.core.display.Math object>"
      ]
     },
     "metadata": {},
     "output_type": "display_data"
    },
    {
     "data": {
      "text/latex": [
       "$\\displaystyle \\mathit{R}\\!\\,^{t}\\!\\,_{\\theta}\\!\\,_{\\theta}\\!\\,_{t} = - r^{2} a{\\left(t \\right)} \\frac{d^{2}}{d t^{2}} a{\\left(t \\right)}$"
      ],
      "text/plain": [
       "<IPython.core.display.Math object>"
      ]
     },
     "metadata": {},
     "output_type": "display_data"
    },
    {
     "data": {
      "text/latex": [
       "$\\displaystyle \\mathit{R}\\!\\,^{t}\\!\\,_{\\phi}\\!\\,_{t}\\!\\,_{\\phi} = r^{2} a{\\left(t \\right)} \\sin^{2}{\\left(\\theta \\right)} \\frac{d^{2}}{d t^{2}} a{\\left(t \\right)}$"
      ],
      "text/plain": [
       "<IPython.core.display.Math object>"
      ]
     },
     "metadata": {},
     "output_type": "display_data"
    },
    {
     "data": {
      "text/latex": [
       "$\\displaystyle \\mathit{R}\\!\\,^{t}\\!\\,_{\\phi}\\!\\,_{\\phi}\\!\\,_{t} = - r^{2} a{\\left(t \\right)} \\sin^{2}{\\left(\\theta \\right)} \\frac{d^{2}}{d t^{2}} a{\\left(t \\right)}$"
      ],
      "text/plain": [
       "<IPython.core.display.Math object>"
      ]
     },
     "metadata": {},
     "output_type": "display_data"
    },
    {
     "data": {
      "text/latex": [
       "$\\displaystyle \\mathit{R}\\!\\,^{r}\\!\\,_{t}\\!\\,_{t}\\!\\,_{r} = \\frac{\\frac{d^{2}}{d t^{2}} a{\\left(t \\right)}}{a{\\left(t \\right)}}$"
      ],
      "text/plain": [
       "<IPython.core.display.Math object>"
      ]
     },
     "metadata": {},
     "output_type": "display_data"
    },
    {
     "data": {
      "text/latex": [
       "$\\displaystyle \\mathit{R}\\!\\,^{r}\\!\\,_{t}\\!\\,_{r}\\!\\,_{t} = - \\frac{\\frac{d^{2}}{d t^{2}} a{\\left(t \\right)}}{a{\\left(t \\right)}}$"
      ],
      "text/plain": [
       "<IPython.core.display.Math object>"
      ]
     },
     "metadata": {},
     "output_type": "display_data"
    },
    {
     "data": {
      "text/latex": [
       "$\\displaystyle \\mathit{R}\\!\\,^{r}\\!\\,_{\\theta}\\!\\,_{r}\\!\\,_{\\theta} = r^{2} \\left(\\frac{d}{d t} a{\\left(t \\right)}\\right)^{2}$"
      ],
      "text/plain": [
       "<IPython.core.display.Math object>"
      ]
     },
     "metadata": {},
     "output_type": "display_data"
    },
    {
     "data": {
      "text/latex": [
       "$\\displaystyle \\mathit{R}\\!\\,^{r}\\!\\,_{\\theta}\\!\\,_{\\theta}\\!\\,_{r} = - r^{2} \\left(\\frac{d}{d t} a{\\left(t \\right)}\\right)^{2}$"
      ],
      "text/plain": [
       "<IPython.core.display.Math object>"
      ]
     },
     "metadata": {},
     "output_type": "display_data"
    },
    {
     "data": {
      "text/latex": [
       "$\\displaystyle \\mathit{R}\\!\\,^{r}\\!\\,_{\\phi}\\!\\,_{r}\\!\\,_{\\phi} = r^{2} \\sin^{2}{\\left(\\theta \\right)} \\left(\\frac{d}{d t} a{\\left(t \\right)}\\right)^{2}$"
      ],
      "text/plain": [
       "<IPython.core.display.Math object>"
      ]
     },
     "metadata": {},
     "output_type": "display_data"
    },
    {
     "data": {
      "text/latex": [
       "$\\displaystyle \\mathit{R}\\!\\,^{r}\\!\\,_{\\phi}\\!\\,_{\\phi}\\!\\,_{r} = - r^{2} \\sin^{2}{\\left(\\theta \\right)} \\left(\\frac{d}{d t} a{\\left(t \\right)}\\right)^{2}$"
      ],
      "text/plain": [
       "<IPython.core.display.Math object>"
      ]
     },
     "metadata": {},
     "output_type": "display_data"
    },
    {
     "data": {
      "text/latex": [
       "$\\displaystyle \\mathit{R}\\!\\,^{\\theta}\\!\\,_{t}\\!\\,_{t}\\!\\,_{\\theta} = \\frac{\\frac{d^{2}}{d t^{2}} a{\\left(t \\right)}}{a{\\left(t \\right)}}$"
      ],
      "text/plain": [
       "<IPython.core.display.Math object>"
      ]
     },
     "metadata": {},
     "output_type": "display_data"
    },
    {
     "data": {
      "text/latex": [
       "$\\displaystyle \\mathit{R}\\!\\,^{\\theta}\\!\\,_{t}\\!\\,_{\\theta}\\!\\,_{t} = - \\frac{\\frac{d^{2}}{d t^{2}} a{\\left(t \\right)}}{a{\\left(t \\right)}}$"
      ],
      "text/plain": [
       "<IPython.core.display.Math object>"
      ]
     },
     "metadata": {},
     "output_type": "display_data"
    },
    {
     "data": {
      "text/latex": [
       "$\\displaystyle \\mathit{R}\\!\\,^{\\theta}\\!\\,_{r}\\!\\,_{r}\\!\\,_{\\theta} = - \\left(\\frac{d}{d t} a{\\left(t \\right)}\\right)^{2}$"
      ],
      "text/plain": [
       "<IPython.core.display.Math object>"
      ]
     },
     "metadata": {},
     "output_type": "display_data"
    },
    {
     "data": {
      "text/latex": [
       "$\\displaystyle \\mathit{R}\\!\\,^{\\theta}\\!\\,_{r}\\!\\,_{\\theta}\\!\\,_{r} = \\left(\\frac{d}{d t} a{\\left(t \\right)}\\right)^{2}$"
      ],
      "text/plain": [
       "<IPython.core.display.Math object>"
      ]
     },
     "metadata": {},
     "output_type": "display_data"
    },
    {
     "data": {
      "text/latex": [
       "$\\displaystyle \\mathit{R}\\!\\,^{\\theta}\\!\\,_{\\phi}\\!\\,_{\\theta}\\!\\,_{\\phi} = r^{2} \\sin^{2}{\\left(\\theta \\right)} \\left(\\frac{d}{d t} a{\\left(t \\right)}\\right)^{2}$"
      ],
      "text/plain": [
       "<IPython.core.display.Math object>"
      ]
     },
     "metadata": {},
     "output_type": "display_data"
    },
    {
     "data": {
      "text/latex": [
       "$\\displaystyle \\mathit{R}\\!\\,^{\\theta}\\!\\,_{\\phi}\\!\\,_{\\phi}\\!\\,_{\\theta} = - r^{2} \\sin^{2}{\\left(\\theta \\right)} \\left(\\frac{d}{d t} a{\\left(t \\right)}\\right)^{2}$"
      ],
      "text/plain": [
       "<IPython.core.display.Math object>"
      ]
     },
     "metadata": {},
     "output_type": "display_data"
    },
    {
     "data": {
      "text/latex": [
       "$\\displaystyle \\mathit{R}\\!\\,^{\\phi}\\!\\,_{t}\\!\\,_{t}\\!\\,_{\\phi} = \\frac{\\frac{d^{2}}{d t^{2}} a{\\left(t \\right)}}{a{\\left(t \\right)}}$"
      ],
      "text/plain": [
       "<IPython.core.display.Math object>"
      ]
     },
     "metadata": {},
     "output_type": "display_data"
    },
    {
     "data": {
      "text/latex": [
       "$\\displaystyle \\mathit{R}\\!\\,^{\\phi}\\!\\,_{t}\\!\\,_{\\phi}\\!\\,_{t} = - \\frac{\\frac{d^{2}}{d t^{2}} a{\\left(t \\right)}}{a{\\left(t \\right)}}$"
      ],
      "text/plain": [
       "<IPython.core.display.Math object>"
      ]
     },
     "metadata": {},
     "output_type": "display_data"
    },
    {
     "data": {
      "text/latex": [
       "$\\displaystyle \\mathit{R}\\!\\,^{\\phi}\\!\\,_{r}\\!\\,_{r}\\!\\,_{\\phi} = - \\left(\\frac{d}{d t} a{\\left(t \\right)}\\right)^{2}$"
      ],
      "text/plain": [
       "<IPython.core.display.Math object>"
      ]
     },
     "metadata": {},
     "output_type": "display_data"
    },
    {
     "data": {
      "text/latex": [
       "$\\displaystyle \\mathit{R}\\!\\,^{\\phi}\\!\\,_{r}\\!\\,_{\\phi}\\!\\,_{r} = \\left(\\frac{d}{d t} a{\\left(t \\right)}\\right)^{2}$"
      ],
      "text/plain": [
       "<IPython.core.display.Math object>"
      ]
     },
     "metadata": {},
     "output_type": "display_data"
    },
    {
     "data": {
      "text/latex": [
       "$\\displaystyle \\mathit{R}\\!\\,^{\\phi}\\!\\,_{\\theta}\\!\\,_{\\theta}\\!\\,_{\\phi} = - r^{2} \\left(\\frac{d}{d t} a{\\left(t \\right)}\\right)^{2}$"
      ],
      "text/plain": [
       "<IPython.core.display.Math object>"
      ]
     },
     "metadata": {},
     "output_type": "display_data"
    },
    {
     "data": {
      "text/latex": [
       "$\\displaystyle \\mathit{R}\\!\\,^{\\phi}\\!\\,_{\\theta}\\!\\,_{\\phi}\\!\\,_{\\theta} = r^{2} \\left(\\frac{d}{d t} a{\\left(t \\right)}\\right)^{2}$"
      ],
      "text/plain": [
       "<IPython.core.display.Math object>"
      ]
     },
     "metadata": {},
     "output_type": "display_data"
    },
    {
     "data": {
      "text/latex": [
       "$\\displaystyle \\mathit{R}\\!\\,_{t}\\!\\,_{t} = - \\frac{3 \\frac{d^{2}}{d t^{2}} a{\\left(t \\right)}}{a{\\left(t \\right)}}$"
      ],
      "text/plain": [
       "<IPython.core.display.Math object>"
      ]
     },
     "metadata": {},
     "output_type": "display_data"
    },
    {
     "data": {
      "text/latex": [
       "$\\displaystyle \\mathit{R}\\!\\,_{r}\\!\\,_{r} = a{\\left(t \\right)} \\frac{d^{2}}{d t^{2}} a{\\left(t \\right)} + 2 \\left(\\frac{d}{d t} a{\\left(t \\right)}\\right)^{2}$"
      ],
      "text/plain": [
       "<IPython.core.display.Math object>"
      ]
     },
     "metadata": {},
     "output_type": "display_data"
    },
    {
     "data": {
      "text/latex": [
       "$\\displaystyle \\mathit{R}\\!\\,_{\\theta}\\!\\,_{\\theta} = r^{2} \\left(a{\\left(t \\right)} \\frac{d^{2}}{d t^{2}} a{\\left(t \\right)} + 2 \\left(\\frac{d}{d t} a{\\left(t \\right)}\\right)^{2}\\right)$"
      ],
      "text/plain": [
       "<IPython.core.display.Math object>"
      ]
     },
     "metadata": {},
     "output_type": "display_data"
    },
    {
     "data": {
      "text/latex": [
       "$\\displaystyle \\mathit{R}\\!\\,_{\\phi}\\!\\,_{\\phi} = r^{2} \\left(a{\\left(t \\right)} \\frac{d^{2}}{d t^{2}} a{\\left(t \\right)} + 2 \\left(\\frac{d}{d t} a{\\left(t \\right)}\\right)^{2}\\right) \\sin^{2}{\\left(\\theta \\right)}$"
      ],
      "text/plain": [
       "<IPython.core.display.Math object>"
      ]
     },
     "metadata": {},
     "output_type": "display_data"
    },
    {
     "data": {
      "text/latex": [
       "$\\displaystyle \\mathit{R} = \\frac{6 \\left(a{\\left(t \\right)} \\frac{d^{2}}{d t^{2}} a{\\left(t \\right)} + \\left(\\frac{d}{d t} a{\\left(t \\right)}\\right)^{2}\\right)}{a^{2}{\\left(t \\right)}}$"
      ],
      "text/plain": [
       "<IPython.core.display.Math object>"
      ]
     },
     "metadata": {},
     "output_type": "display_data"
    },
    {
     "name": "stdout",
     "output_type": "stream",
     "text": [
      "Riemann tensor etc. computed in 0.003s\n"
     ]
    },
    {
     "data": {
      "text/latex": [
       "$\\displaystyle \\mathit{G}\\!\\,_{t}\\!\\,_{t} = \\frac{3 \\left(\\frac{d}{d t} a{\\left(t \\right)}\\right)^{2}}{a^{2}{\\left(t \\right)}}$"
      ],
      "text/plain": [
       "<IPython.core.display.Math object>"
      ]
     },
     "metadata": {},
     "output_type": "display_data"
    },
    {
     "data": {
      "text/latex": [
       "$\\displaystyle \\mathit{G}\\!\\,_{r}\\!\\,_{r} = - 2 a{\\left(t \\right)} \\frac{d^{2}}{d t^{2}} a{\\left(t \\right)} - \\left(\\frac{d}{d t} a{\\left(t \\right)}\\right)^{2}$"
      ],
      "text/plain": [
       "<IPython.core.display.Math object>"
      ]
     },
     "metadata": {},
     "output_type": "display_data"
    },
    {
     "data": {
      "text/latex": [
       "$\\displaystyle \\mathit{G}\\!\\,_{\\theta}\\!\\,_{\\theta} = - 2 r^{2} a{\\left(t \\right)} \\frac{d^{2}}{d t^{2}} a{\\left(t \\right)} - r^{2} \\left(\\frac{d}{d t} a{\\left(t \\right)}\\right)^{2}$"
      ],
      "text/plain": [
       "<IPython.core.display.Math object>"
      ]
     },
     "metadata": {},
     "output_type": "display_data"
    },
    {
     "data": {
      "text/latex": [
       "$\\displaystyle \\mathit{G}\\!\\,_{\\phi}\\!\\,_{\\phi} = - 2 r^{2} a{\\left(t \\right)} \\sin^{2}{\\left(\\theta \\right)} \\frac{d^{2}}{d t^{2}} a{\\left(t \\right)} - r^{2} \\sin^{2}{\\left(\\theta \\right)} \\left(\\frac{d}{d t} a{\\left(t \\right)}\\right)^{2}$"
      ],
      "text/plain": [
       "<IPython.core.display.Math object>"
      ]
     },
     "metadata": {},
     "output_type": "display_data"
    },
    {
     "data": {
      "text/latex": [
       "$\\displaystyle C\\!\\,_{α}\\!\\,_{β}\\!\\,_{γ}\\!\\,_{δ}= 0$"
      ],
      "text/plain": [
       "<IPython.core.display.Math object>"
      ]
     },
     "metadata": {},
     "output_type": "display_data"
    },
    {
     "data": {
      "text/latex": [
       "$\\displaystyle C\\!\\,_{α}\\!\\,_{β}= 0$"
      ],
      "text/plain": [
       "<IPython.core.display.Math object>"
      ]
     },
     "metadata": {},
     "output_type": "display_data"
    }
   ],
   "source": [
    "a = sp.Function('a')(t)\n",
    "g = vl.tensor.Tensor(\"g\", sp.MutableDenseNDimArray(sp.diag(-1, a**2, a**2 * r**2, a**2 * r**2 * sp.sin(theta)**2)), [-1,-1])\n",
    "\n",
    "vl.spacetime.set_metric_and_coordinates(g, coords)\n",
    "\n",
    "\n",
    "vl.spacetime.ensure_curvature()\n",
    "vl.spacetime.riemann.show_components()\n",
    "vl.spacetime.ricci_t.show_components()\n",
    "vl.spacetime.ricci_s.show_components()\n",
    "\n",
    "vl.spacetime.ensure_einstein()\n",
    "vl.spacetime.einstein.show_components()\n",
    "\n",
    "#vl.spacetime.ensure_kretschmann()\n",
    "#vl.spacetime.kretschmann.show_components()\n",
    "\n",
    "vl.spacetime.ensure_weyl()\n",
    "vl.spacetime.weyl.show_components()\n",
    "vl.spacetime.weyl.contract(0,2).show_components()"
   ]
  },
  {
   "cell_type": "code",
   "execution_count": 74,
   "id": "dd39fa02-42fd-48af-ba83-73121de7011e",
   "metadata": {},
   "outputs": [
    {
     "data": {
      "text/latex": [
       "$\\displaystyle R\\!\\,^{α}\\!\\,_{β}\\!\\,_{γ}\\!\\,_{δ}= 0$"
      ],
      "text/plain": [
       "<IPython.core.display.Math object>"
      ]
     },
     "metadata": {},
     "output_type": "display_data"
    },
    {
     "data": {
      "text/latex": [
       "$F\\!\\,_{α}\\!\\,_{β} = \\left[\\begin{matrix}0 & \\frac{\\partial}{\\partial t} A_{r}{\\left(t,r,\\theta,\\phi \\right)} - \\frac{\\partial}{\\partial r} A_{t}{\\left(t,r,\\theta,\\phi \\right)} & - \\frac{\\partial}{\\partial \\theta} A_{t}{\\left(t,r,\\theta,\\phi \\right)} + \\frac{\\partial}{\\partial t} A_{\\theta}{\\left(t,r,\\theta,\\phi \\right)} & \\frac{\\partial}{\\partial t} A_{\\phi}{\\left(t,r,\\theta,\\phi \\right)} - \\frac{\\partial}{\\partial \\phi} A_{t}{\\left(t,r,\\theta,\\phi \\right)}\\\\- \\frac{\\partial}{\\partial t} A_{r}{\\left(t,r,\\theta,\\phi \\right)} + \\frac{\\partial}{\\partial r} A_{t}{\\left(t,r,\\theta,\\phi \\right)} & 0 & - \\frac{\\partial}{\\partial \\theta} A_{r}{\\left(t,r,\\theta,\\phi \\right)} + \\frac{\\partial}{\\partial r} A_{\\theta}{\\left(t,r,\\theta,\\phi \\right)} & \\frac{\\partial}{\\partial r} A_{\\phi}{\\left(t,r,\\theta,\\phi \\right)} - \\frac{\\partial}{\\partial \\phi} A_{r}{\\left(t,r,\\theta,\\phi \\right)}\\\\\\frac{\\partial}{\\partial \\theta} A_{t}{\\left(t,r,\\theta,\\phi \\right)} - \\frac{\\partial}{\\partial t} A_{\\theta}{\\left(t,r,\\theta,\\phi \\right)} & \\frac{\\partial}{\\partial \\theta} A_{r}{\\left(t,r,\\theta,\\phi \\right)} - \\frac{\\partial}{\\partial r} A_{\\theta}{\\left(t,r,\\theta,\\phi \\right)} & 0 & \\frac{\\partial}{\\partial \\theta} A_{\\phi}{\\left(t,r,\\theta,\\phi \\right)} - \\frac{\\partial}{\\partial \\phi} A_{\\theta}{\\left(t,r,\\theta,\\phi \\right)}\\\\- \\frac{\\partial}{\\partial t} A_{\\phi}{\\left(t,r,\\theta,\\phi \\right)} + \\frac{\\partial}{\\partial \\phi} A_{t}{\\left(t,r,\\theta,\\phi \\right)} & - \\frac{\\partial}{\\partial r} A_{\\phi}{\\left(t,r,\\theta,\\phi \\right)} + \\frac{\\partial}{\\partial \\phi} A_{r}{\\left(t,r,\\theta,\\phi \\right)} & - \\frac{\\partial}{\\partial \\theta} A_{\\phi}{\\left(t,r,\\theta,\\phi \\right)} + \\frac{\\partial}{\\partial \\phi} A_{\\theta}{\\left(t,r,\\theta,\\phi \\right)} & 0\\end{matrix}\\right]$"
      ],
      "text/plain": [
       "Tensor(components=[[0, Derivative(A_r(t, r, theta, phi), t) - Derivative(A_t(t, r, theta, phi), r), -Derivative(A_t(t, r, theta, phi), theta) + Derivative(A_theta(t, r, theta, phi), t), Derivative(A_phi(t, r, theta, phi), t) - Derivative(A_t(t, r, theta, phi), phi)], [-Derivative(A_r(t, r, theta, phi), t) + Derivative(A_t(t, r, theta, phi), r), 0, -Derivative(A_r(t, r, theta, phi), theta) + Derivative(A_theta(t, r, theta, phi), r), Derivative(A_phi(t, r, theta, phi), r) - Derivative(A_r(t, r, theta, phi), phi)], [Derivative(A_t(t, r, theta, phi), theta) - Derivative(A_theta(t, r, theta, phi), t), Derivative(A_r(t, r, theta, phi), theta) - Derivative(A_theta(t, r, theta, phi), r), 0, Derivative(A_phi(t, r, theta, phi), theta) - Derivative(A_theta(t, r, theta, phi), phi)], [-Derivative(A_phi(t, r, theta, phi), t) + Derivative(A_t(t, r, theta, phi), phi), -Derivative(A_phi(t, r, theta, phi), r) + Derivative(A_r(t, r, theta, phi), phi), -Derivative(A_phi(t, r, theta, phi), theta) + Derivative(A_theta(t, r, theta, phi), phi), 0]], indices=[-1, -1], name=F)"
      ]
     },
     "execution_count": 74,
     "metadata": {},
     "output_type": "execute_result"
    }
   ],
   "source": [
    "Q = vl.tensor.Tensor(\"Q\", [[0,0,0,1],[0,2,0,0],[0,3,3,0],[0,0,0,0]], [-1,-1])\n",
    "Q.symmetrise([0,1])\n",
    "\n",
    "K = vl.tensor.Tensor(\"K\", sp.diag(0,0,r**4, r**4 * sp.sin(theta)**2), [-1,-1])\n",
    "dK = K.covariant_gradient().symmetrise()\n",
    "dK\n",
    "\n",
    "R = vl.spacetime.riemann\n",
    "\n",
    "R.antisymmetrise([1,2,3]).show_components()\n",
    "\n",
    "A0 = sp.Function('A_t')(t, r, theta, phi)\n",
    "A1 = sp.Function('A_r')(t, r, theta, phi)\n",
    "A2 = sp.Function('A_theta')(t, r, theta, phi)\n",
    "A3 = sp.Function('A_phi')(t, r, theta, phi)\n",
    "\n",
    "A = vl.tensor.Tensor(\"A\", [A0, A1, A2, A3], [-1])\n",
    "dA = A.partial_gradient()\n",
    "F = dA.antisymmetrise(normalise=False)\n",
    "F.name = \"F\"\n",
    "F"
   ]
  },
  {
   "cell_type": "code",
   "execution_count": 67,
   "id": "79db376b-1abe-41d3-8519-eba31162c3c6",
   "metadata": {},
   "outputs": [
    {
     "name": "stdout",
     "output_type": "stream",
     "text": [
      "Christoffel symbols computed in 0.082s\n",
      "Riemann tensor etc. computed in 2.599s\n",
      "Riemann tensor etc. computed in 61.065s\n"
     ]
    }
   ],
   "source": [
    "coords = x0, x1, x2, x3 = sp.symbols('x^0 x^1 x^2 x^3')\n",
    "Omega = sp.Function('Omega')(x0,x1,x2,x3)\n",
    "eta = vl.tensor.Tensor(\"\\eta\", sp.diag(-1,1,1,1), [-1,-1])\n",
    "g = sp.exp(2 * Omega) * eta\n",
    "g.name = \"g\"\n",
    "\n",
    "vl.spacetime.set_metric_and_coordinates(g, coords)\n",
    "vl.spacetime.ensure_curvature()\n",
    "#vl.spacetime.ensure_weyl()\n",
    "#vl.spacetime.weyl.show_components()"
   ]
  },
  {
   "cell_type": "code",
   "execution_count": 15,
   "id": "e7c204dd-993d-4ada-913f-ba4275f4aed2",
   "metadata": {},
   "outputs": [
    {
     "ename": "AttributeError",
     "evalue": "'NoneType' object has no attribute 'show_components'",
     "output_type": "error",
     "traceback": [
      "\u001b[1;31m---------------------------------------------------------------------------\u001b[0m",
      "\u001b[1;31mAttributeError\u001b[0m                            Traceback (most recent call last)",
      "Cell \u001b[1;32mIn[15], line 1\u001b[0m\n\u001b[1;32m----> 1\u001b[0m \u001b[43mvl\u001b[49m\u001b[38;5;241;43m.\u001b[39;49m\u001b[43mspacetime\u001b[49m\u001b[38;5;241;43m.\u001b[39;49m\u001b[43meinstein\u001b[49m\u001b[38;5;241;43m.\u001b[39;49m\u001b[43mshow_components\u001b[49m()\n\u001b[0;32m      2\u001b[0m vl\u001b[38;5;241m.\u001b[39mspacetime\u001b[38;5;241m.\u001b[39mensure_kretschmann()\n",
      "\u001b[1;31mAttributeError\u001b[0m: 'NoneType' object has no attribute 'show_components'"
     ]
    }
   ],
   "source": [
    "vl.spacetime.einstein.show_components()\n",
    "vl.spacetime.ensure_kretschmann()"
   ]
  },
  {
   "cell_type": "code",
   "execution_count": 28,
   "id": "e2d352c8-9936-4c13-a649-598796920846",
   "metadata": {},
   "outputs": [
    {
     "data": {
      "text/latex": [
       "$\\displaystyle [\\mathit{∇_{\\Theta}\\Theta}]\\!\\,^{r} = \\frac{f{\\left(r \\right)} \\frac{d}{d r} f{\\left(r \\right)}}{2}$"
      ],
      "text/plain": [
       "<IPython.core.display.Math object>"
      ]
     },
     "metadata": {},
     "output_type": "display_data"
    },
    {
     "data": {
      "text/latex": [
       "$\\displaystyle \\mathit{Γ}\\!\\,^{r}\\!\\,_{t}\\!\\,_{t} = \\frac{f{\\left(r \\right)} \\frac{d}{d r} f{\\left(r \\right)}}{2}$"
      ],
      "text/plain": [
       "<IPython.core.display.Math object>"
      ]
     },
     "metadata": {},
     "output_type": "display_data"
    }
   ],
   "source": [
    "X = vl.tensor.Tensor(\"X\", [1,0,0,0], [1])\n",
    "X.covariant_along(X).show_components()\n",
    "vl.spacetime.christoffel.show_component([1,0,0])"
   ]
  },
  {
   "cell_type": "code",
   "execution_count": null,
   "id": "914e83c2-7ad5-4012-832c-e817097bc301",
   "metadata": {},
   "outputs": [],
   "source": []
  }
 ],
 "metadata": {
  "kernelspec": {
   "display_name": "Python 3 (ipykernel)",
   "language": "python",
   "name": "python3"
  },
  "language_info": {
   "codemirror_mode": {
    "name": "ipython",
    "version": 3
   },
   "file_extension": ".py",
   "mimetype": "text/x-python",
   "name": "python",
   "nbconvert_exporter": "python",
   "pygments_lexer": "ipython3",
   "version": "3.11.0"
  }
 },
 "nbformat": 4,
 "nbformat_minor": 5
}
