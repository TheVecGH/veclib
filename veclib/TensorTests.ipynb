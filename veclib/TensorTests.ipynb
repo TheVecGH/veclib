{
 "cells": [
  {
   "cell_type": "code",
   "execution_count": 13,
   "id": "2bfffb46-1db4-4959-9b0d-665ea5bf2e7e",
   "metadata": {},
   "outputs": [
    {
     "name": "stdout",
     "output_type": "stream",
     "text": [
      "The autoreload extension is already loaded. To reload it, use:\n",
      "  %reload_ext autoreload\n"
     ]
    }
   ],
   "source": [
    "%load_ext autoreload\n",
    "%autoreload 2\n",
    "import veclib.tensor\n",
    "import veclib.spacetime\n",
    "import veclib as vl\n",
    "import sympy as sp"
   ]
  },
  {
   "cell_type": "code",
   "execution_count": 35,
   "id": "5c7dcbb1-58b0-471a-8aa8-75c4e24b329e",
   "metadata": {},
   "outputs": [
    {
     "name": "stdout",
     "output_type": "stream",
     "text": [
      "spacetime.metric = Matrix([[-f(r), 0, 0, 0], [0, 1/f(r), 0, 0], [0, 0, r**2, 0], [0, 0, 0, r**2*sin(theta)**2]])\n",
      "spacetime.coordinates = (t, r, theta, phi)\n",
      "spacetime.dim = 4\n"
     ]
    },
    {
     "data": {
      "text/latex": [
       "$(∂T)\\!\\,_{α}\\!\\,^{β}\\!\\,_{γ} = \\left[\\begin{matrix}\\left[\\begin{matrix}0 & 0 & 0 & 0\\\\0 & 0 & 0 & 0\\\\0 & 0 & 0 & 0\\\\0 & 0 & 0 & 0\\end{matrix}\\right] & \\left[\\begin{matrix}0 & 0 & 0 & 0\\\\0 & 0 & 0 & 0\\\\0 & 0 & 2 r & 0\\\\0 & 0 & 0 & 2 r\\end{matrix}\\right] & \\left[\\begin{matrix}0 & 0 & 0 & 0\\\\0 & 0 & 0 & 0\\\\0 & 0 & 0 & 0\\\\0 & 0 & 0 & 0\\end{matrix}\\right] & \\left[\\begin{matrix}0 & 0 & 0 & 0\\\\0 & 0 & 0 & 0\\\\0 & 0 & 0 & 0\\\\0 & 0 & 0 & 0\\end{matrix}\\right]\\end{matrix}\\right]$"
      ],
      "text/plain": [
       "Tensor(components=[[[0, 0, 0, 0], [0, 0, 0, 0], [0, 0, 0, 0], [0, 0, 0, 0]], [[0, 0, 0, 0], [0, 0, 0, 0], [0, 0, 2*r, 0], [0, 0, 0, 2*r]], [[0, 0, 0, 0], [0, 0, 0, 0], [0, 0, 0, 0], [0, 0, 0, 0]], [[0, 0, 0, 0], [0, 0, 0, 0], [0, 0, 0, 0], [0, 0, 0, 0]]], indices=[-1, 1, -1], name=∂T)"
      ]
     },
     "execution_count": 35,
     "metadata": {},
     "output_type": "execute_result"
    }
   ],
   "source": [
    "coords = t,r,theta,phi = sp.symbols('t r theta phi')\n",
    "f = sp.Function('f')(r)\n",
    "g = vl.tensor.Tensor(\"g\", sp.MutableDenseNDimArray(sp.diag(-f,f**-1,r**2, r**2 * sp.sin(theta)**2)), [-1,-1])\n",
    "\n",
    "vl.spacetime.set_metric_and_coordinates(g,coords)\n",
    "\n",
    "print(\"spacetime.metric = \" + str(vl.spacetime.metric))\n",
    "print(\"spacetime.coordinates = \" + str(vl.spacetime.coords))\n",
    "print(\"spacetime.dim = \" + str(vl.spacetime.dim))\n",
    "\n",
    "T = vl.tensor.Tensor(\"T\", sp.diag(0,0,r**4, r**4 * sp.sin(theta)**2), [-1,-1])\n",
    "\n",
    "T = T.raise_index(0)\n",
    "\n",
    "T\n",
    "\n",
    "dT = T.partial_gradient()\n",
    "dT"
   ]
  },
  {
   "cell_type": "code",
   "execution_count": 36,
   "id": "4319346f-90e4-4eda-9acf-c9cb35cd1a40",
   "metadata": {},
   "outputs": [
    {
     "data": {
      "text/latex": [
       "$\\displaystyle \\left[\\begin{matrix}\\left[\\begin{matrix}0 & 0 & 0 & 0\\\\0 & 0 & 0 & 0\\\\0 & 0 & 0 & 0\\\\0 & 0 & 0 & 0\\end{matrix}\\right] & \\left[\\begin{matrix}0 & 0 & 0 & 0\\\\0 & 0 & 0 & 0\\\\0 & 0 & 2 r & 0\\\\0 & 0 & 0 & 2 r\\end{matrix}\\right] & \\left[\\begin{matrix}0 & 0 & 0 & 0\\\\0 & 0 & 0 & 0\\\\0 & 0 & 0 & 0\\\\0 & 0 & 0 & 0\\end{matrix}\\right] & \\left[\\begin{matrix}0 & 0 & 0 & 0\\\\0 & 0 & 0 & 0\\\\0 & 0 & 0 & 0\\\\0 & 0 & 0 & 0\\end{matrix}\\right]\\end{matrix}\\right]$"
      ],
      "text/plain": [
       "[[[0, 0, 0, 0], [0, 0, 0, 0], [0, 0, 0, 0], [0, 0, 0, 0]], [[0, 0, 0, 0], [0, 0, 0, 0], [0, 0, 2*r, 0], [0, 0, 0, 2*r]], [[0, 0, 0, 0], [0, 0, 0, 0], [0, 0, 0, 0], [0, 0, 0, 0]], [[0, 0, 0, 0], [0, 0, 0, 0], [0, 0, 0, 0], [0, 0, 0, 0]]]"
      ]
     },
     "execution_count": 36,
     "metadata": {},
     "output_type": "execute_result"
    }
   ],
   "source": [
    "S = vl.tensor.Tensor(\"S\", sp.Function('S')(t,r,theta,phi))\n",
    "dS = S.partial_gradient()\n",
    "\n",
    "dT = T.partial_gradient()\n",
    "\n",
    "ddS = dS.partial_gradient()\n",
    "dg = g.partial_gradient()\n",
    "dT.components"
   ]
  },
  {
   "cell_type": "code",
   "execution_count": 54,
   "id": "85067d63-cbe0-466d-a65b-ffb3aad7c828",
   "metadata": {},
   "outputs": [
    {
     "ename": "TypeError",
     "evalue": "MatrixSpecial.zeros() takes from 2 to 3 positional arguments but 4 were given",
     "output_type": "error",
     "traceback": [
      "\u001b[1;31m---------------------------------------------------------------------------\u001b[0m",
      "\u001b[1;31mTypeError\u001b[0m                                 Traceback (most recent call last)",
      "Cell \u001b[1;32mIn[54], line 9\u001b[0m\n\u001b[0;32m      7\u001b[0m proj \u001b[38;5;241m=\u001b[39m u\u001b[38;5;241m.\u001b[39mtensor_product(u)\n\u001b[0;32m      8\u001b[0m proj \u001b[38;5;241m=\u001b[39m proj\u001b[38;5;241m.\u001b[39mpartial_gradient()\n\u001b[1;32m----> 9\u001b[0m proj \u001b[38;5;241m=\u001b[39m \u001b[43mproj\u001b[49m\u001b[38;5;241;43m.\u001b[39;49m\u001b[43mraise_index\u001b[49m\u001b[43m(\u001b[49m\u001b[38;5;241;43m0\u001b[39;49m\u001b[43m)\u001b[49m\n\u001b[0;32m     10\u001b[0m proj\u001b[38;5;241m.\u001b[39mcomponents[\u001b[38;5;241m0\u001b[39m,\u001b[38;5;241m0\u001b[39m,\u001b[38;5;241m3\u001b[39m] \u001b[38;5;241m=\u001b[39m \u001b[38;5;241m1\u001b[39m\n\u001b[0;32m     11\u001b[0m proj\u001b[38;5;241m.\u001b[39mswap_indices(\u001b[38;5;241m0\u001b[39m,\u001b[38;5;241m2\u001b[39m)\n",
      "File \u001b[1;32mH:\\uni\\Master\\Master Thesis\\dev\\veclib\\veclib\\tensor.py:105\u001b[0m, in \u001b[0;36mTensor.raise_index\u001b[1;34m(self, index_pos)\u001b[0m\n\u001b[0;32m    102\u001b[0m     \u001b[38;5;28;01mraise\u001b[39;00m \u001b[38;5;167;01mValueError\u001b[39;00m(\u001b[38;5;124mf\u001b[39m\u001b[38;5;124m\"\u001b[39m\u001b[38;5;124mindex_pos \u001b[39m\u001b[38;5;132;01m{\u001b[39;00mindex_pos\u001b[38;5;132;01m}\u001b[39;00m\u001b[38;5;124m exceeds tensor rank \u001b[39m\u001b[38;5;132;01m{\u001b[39;00m\u001b[38;5;28mself\u001b[39m\u001b[38;5;241m.\u001b[39mrank\u001b[38;5;132;01m}\u001b[39;00m\u001b[38;5;124m\"\u001b[39m)\n\u001b[0;32m    104\u001b[0m \u001b[38;5;28;01mif\u001b[39;00m \u001b[38;5;28mself\u001b[39m\u001b[38;5;241m.\u001b[39mindices[index_pos] \u001b[38;5;241m==\u001b[39m \u001b[38;5;241m-\u001b[39m\u001b[38;5;241m1\u001b[39m:\n\u001b[1;32m--> 105\u001b[0m     new_components \u001b[38;5;241m=\u001b[39m \u001b[43msp\u001b[49m\u001b[38;5;241;43m.\u001b[39;49m\u001b[43mzeros\u001b[49m\u001b[43m(\u001b[49m\u001b[38;5;241;43m*\u001b[39;49m\u001b[38;5;28;43mself\u001b[39;49m\u001b[38;5;241;43m.\u001b[39;49m\u001b[43mcomponents\u001b[49m\u001b[38;5;241;43m.\u001b[39;49m\u001b[43mshape\u001b[49m\u001b[43m)\u001b[49m\n\u001b[0;32m    106\u001b[0m     new_indices \u001b[38;5;241m=\u001b[39m \u001b[38;5;28mself\u001b[39m\u001b[38;5;241m.\u001b[39mindices\u001b[38;5;241m.\u001b[39mcopy()\n\u001b[0;32m    107\u001b[0m     new_indices[index_pos] \u001b[38;5;241m=\u001b[39m \u001b[38;5;241m1\u001b[39m\n",
      "File \u001b[1;32m~\\AppData\\Local\\Programs\\Python\\Python311\\Lib\\site-packages\\sympy\\matrices\\dense.py:1090\u001b[0m, in \u001b[0;36mzeros\u001b[1;34m(*args, **kwargs)\u001b[0m\n\u001b[0;32m   1087\u001b[0m \u001b[38;5;28;01mif\u001b[39;00m \u001b[38;5;124m'\u001b[39m\u001b[38;5;124mc\u001b[39m\u001b[38;5;124m'\u001b[39m \u001b[38;5;129;01min\u001b[39;00m kwargs:\n\u001b[0;32m   1088\u001b[0m     kwargs[\u001b[38;5;124m'\u001b[39m\u001b[38;5;124mcols\u001b[39m\u001b[38;5;124m'\u001b[39m] \u001b[38;5;241m=\u001b[39m kwargs\u001b[38;5;241m.\u001b[39mpop(\u001b[38;5;124m'\u001b[39m\u001b[38;5;124mc\u001b[39m\u001b[38;5;124m'\u001b[39m)\n\u001b[1;32m-> 1090\u001b[0m \u001b[38;5;28;01mreturn\u001b[39;00m \u001b[43mMatrix\u001b[49m\u001b[38;5;241;43m.\u001b[39;49m\u001b[43mzeros\u001b[49m\u001b[43m(\u001b[49m\u001b[38;5;241;43m*\u001b[39;49m\u001b[43margs\u001b[49m\u001b[43m,\u001b[49m\u001b[43m \u001b[49m\u001b[38;5;241;43m*\u001b[39;49m\u001b[38;5;241;43m*\u001b[39;49m\u001b[43mkwargs\u001b[49m\u001b[43m)\u001b[49m\n",
      "\u001b[1;31mTypeError\u001b[0m: MatrixSpecial.zeros() takes from 2 to 3 positional arguments but 4 were given"
     ]
    }
   ],
   "source": [
    "Sr = sp.Function('S_r')(r)\n",
    "L = sp.symbols('L')\n",
    "S = -t + Sr + L * theta\n",
    "S = vl.tensor.Tensor(\"S\", S)\n",
    "u = S.partial_gradient().raise_index(0)\n",
    "\n",
    "proj = u.tensor_product(u)\n",
    "proj = proj.partial_gradient()\n",
    "proj = proj.raise_index(0)\n",
    "proj.components[0,0,3] = 1\n",
    "proj.swap_indices(0,2)"
   ]
  },
  {
   "cell_type": "code",
   "execution_count": 53,
   "id": "9a71dab2-6b3f-4a7c-848d-66efd5e2926f",
   "metadata": {},
   "outputs": [],
   "source": [
    "Sr = sp.Function('S_r')(r)\n",
    "L = sp.symbols('L')\n",
    "S = -t + Sr + L * theta\n",
    "S = vl.tensor.Tensor(\"S\", S)\n",
    "\n",
    "u = S.partial_gradient()\n",
    "v = vl.tensor.Tensor(\"v\", [1,2,3,4], [-1])\n",
    "HJ = u.tensor_product(v)\n",
    "T = HJ.swap_indices()"
   ]
  },
  {
   "cell_type": "code",
   "execution_count": null,
   "id": "a7cd71d0-497d-48e2-bd04-d41ec85b98b9",
   "metadata": {},
   "outputs": [],
   "source": []
  }
 ],
 "metadata": {
  "kernelspec": {
   "display_name": "Python 3 (ipykernel)",
   "language": "python",
   "name": "python3"
  },
  "language_info": {
   "codemirror_mode": {
    "name": "ipython",
    "version": 3
   },
   "file_extension": ".py",
   "mimetype": "text/x-python",
   "name": "python",
   "nbconvert_exporter": "python",
   "pygments_lexer": "ipython3",
   "version": "3.11.0"
  }
 },
 "nbformat": 4,
 "nbformat_minor": 5
}
