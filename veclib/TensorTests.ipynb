{
 "cells": [
  {
   "cell_type": "code",
   "execution_count": 3,
   "id": "2bfffb46-1db4-4959-9b0d-665ea5bf2e7e",
   "metadata": {},
   "outputs": [
    {
     "name": "stdout",
     "output_type": "stream",
     "text": [
      "The autoreload extension is already loaded. To reload it, use:\n",
      "  %reload_ext autoreload\n"
     ]
    }
   ],
   "source": [
    "%load_ext autoreload\n",
    "%autoreload 2\n",
    "import veclib.tensor\n",
    "import veclib.spacetime\n",
    "import veclib as vl\n",
    "import sympy as sp"
   ]
  },
  {
   "cell_type": "code",
   "execution_count": 4,
   "id": "5c7dcbb1-58b0-471a-8aa8-75c4e24b329e",
   "metadata": {},
   "outputs": [
    {
     "name": "stdout",
     "output_type": "stream",
     "text": [
      "spacetime.metric = Matrix([[-f(r), 0, 0, 0], [0, 1/f(r), 0, 0], [0, 0, r**2, 0], [0, 0, 0, r**2*sin(theta)**2]])\n",
      "spacetime.coordinates = (t, r, theta, phi)\n",
      "spacetime.dim = 4\n"
     ]
    },
    {
     "data": {
      "text/latex": [
       "$∂_{α}\\,T\\!\\,^{β}\\!\\,_{γ} = \\left[\\begin{matrix}\\left[\\begin{matrix}0 & 0 & 0 & 0\\\\0 & 0 & 0 & 0\\\\0 & 0 & 0 & 0\\\\0 & 0 & 0 & 0\\end{matrix}\\right] & \\left[\\begin{matrix}0 & 0 & 0 & 0\\\\0 & 0 & 0 & 0\\\\0 & 0 & 2 r & 0\\\\0 & 0 & 0 & 2 r\\end{matrix}\\right] & \\left[\\begin{matrix}0 & 0 & 0 & 0\\\\0 & 0 & 0 & 0\\\\0 & 0 & 0 & 0\\\\0 & 0 & 0 & 0\\end{matrix}\\right] & \\left[\\begin{matrix}0 & 0 & 0 & 0\\\\0 & 0 & 0 & 0\\\\0 & 0 & 0 & 0\\\\0 & 0 & 0 & 0\\end{matrix}\\right]\\end{matrix}\\right]$"
      ],
      "text/plain": [
       "Tensor(components=[[[0, 0, 0, 0], [0, 0, 0, 0], [0, 0, 0, 0], [0, 0, 0, 0]], [[0, 0, 0, 0], [0, 0, 0, 0], [0, 0, 2*r, 0], [0, 0, 0, 2*r]], [[0, 0, 0, 0], [0, 0, 0, 0], [0, 0, 0, 0], [0, 0, 0, 0]], [[0, 0, 0, 0], [0, 0, 0, 0], [0, 0, 0, 0], [0, 0, 0, 0]]], indices=[-1, 1, -1], name=∂T)"
      ]
     },
     "execution_count": 4,
     "metadata": {},
     "output_type": "execute_result"
    }
   ],
   "source": [
    "coords = t,r,theta,phi = sp.symbols('t r theta phi')\n",
    "f = sp.Function('f')(r)\n",
    "g = vl.tensor.Tensor(\"g\", sp.MutableDenseNDimArray(sp.diag(-f,f**-1,r**2, r**2 * sp.sin(theta)**2)), [-1,-1])\n",
    "\n",
    "vl.spacetime.set_metric_and_coordinates(g,coords)\n",
    "\n",
    "print(\"spacetime.metric = \" + str(vl.spacetime.metric))\n",
    "print(\"spacetime.coordinates = \" + str(vl.spacetime.coords))\n",
    "print(\"spacetime.dim = \" + str(vl.spacetime.dim))\n",
    "\n",
    "T = vl.tensor.Tensor(\"T\", sp.diag(0,0,r**4, r**4 * sp.sin(theta)**2), [-1,-1])\n",
    "\n",
    "T = T.raise_index(0)\n",
    "\n",
    "T\n",
    "\n",
    "dT = T.partial_gradient()\n",
    "dT"
   ]
  },
  {
   "cell_type": "code",
   "execution_count": 5,
   "id": "4319346f-90e4-4eda-9acf-c9cb35cd1a40",
   "metadata": {},
   "outputs": [
    {
     "data": {
      "text/latex": [
       "$\\displaystyle \\left[\\begin{matrix}\\left[\\begin{matrix}0 & 0 & 0 & 0\\\\0 & 0 & 0 & 0\\\\0 & 0 & 0 & 0\\\\0 & 0 & 0 & 0\\end{matrix}\\right] & \\left[\\begin{matrix}0 & 0 & 0 & 0\\\\0 & 0 & 0 & 0\\\\0 & 0 & 2 r & 0\\\\0 & 0 & 0 & 2 r\\end{matrix}\\right] & \\left[\\begin{matrix}0 & 0 & 0 & 0\\\\0 & 0 & 0 & 0\\\\0 & 0 & 0 & 0\\\\0 & 0 & 0 & 0\\end{matrix}\\right] & \\left[\\begin{matrix}0 & 0 & 0 & 0\\\\0 & 0 & 0 & 0\\\\0 & 0 & 0 & 0\\\\0 & 0 & 0 & 0\\end{matrix}\\right]\\end{matrix}\\right]$"
      ],
      "text/plain": [
       "[[[0, 0, 0, 0], [0, 0, 0, 0], [0, 0, 0, 0], [0, 0, 0, 0]], [[0, 0, 0, 0], [0, 0, 0, 0], [0, 0, 2*r, 0], [0, 0, 0, 2*r]], [[0, 0, 0, 0], [0, 0, 0, 0], [0, 0, 0, 0], [0, 0, 0, 0]], [[0, 0, 0, 0], [0, 0, 0, 0], [0, 0, 0, 0], [0, 0, 0, 0]]]"
      ]
     },
     "execution_count": 5,
     "metadata": {},
     "output_type": "execute_result"
    }
   ],
   "source": [
    "S = vl.tensor.Tensor(\"S\", sp.Function('S')(t,r,theta,phi))\n",
    "dS = S.partial_gradient()\n",
    "\n",
    "dT = T.partial_gradient()\n",
    "\n",
    "ddS = dS.partial_gradient()\n",
    "dg = g.partial_gradient()\n",
    "dT.components"
   ]
  },
  {
   "cell_type": "code",
   "execution_count": 24,
   "id": "85067d63-cbe0-466d-a65b-ffb3aad7c828",
   "metadata": {},
   "outputs": [
    {
     "name": "stdout",
     "output_type": "stream",
     "text": [
      "2\n",
      "<class 'sympy.tensor.array.dense_ndim_array.MutableDenseNDimArray'>\n",
      "4\n",
      "<class 'sympy.tensor.array.dense_ndim_array.MutableDenseNDimArray'>\n"
     ]
    },
    {
     "data": {
      "text/latex": [
       "$(∂^{α}\\,S⊗∂^{β}\\,S⊗g)\\!\\,_{γ}\\!\\,_{δ} = \\left[\\begin{matrix}\\left[\\begin{matrix}- \\frac{1}{f{\\left(r \\right)}} & 0 & 0 & 0\\\\0 & \\frac{1}{f^{3}{\\left(r \\right)}} & 0 & 0\\\\0 & 0 & \\frac{r^{2}}{f^{2}{\\left(r \\right)}} & 0\\\\0 & 0 & 0 & \\frac{r^{2} \\sin^{2}{\\left(\\theta \\right)}}{f^{2}{\\left(r \\right)}}\\end{matrix}\\right] & \\left[\\begin{matrix}- f{\\left(r \\right)} \\frac{d}{d r} S_{r}{\\left(r \\right)} & 0 & 0 & 0\\\\0 & \\frac{\\frac{d}{d r} S_{r}{\\left(r \\right)}}{f{\\left(r \\right)}} & 0 & 0\\\\0 & 0 & r^{2} \\frac{d}{d r} S_{r}{\\left(r \\right)} & 0\\\\0 & 0 & 0 & r^{2} \\sin^{2}{\\left(\\theta \\right)} \\frac{d}{d r} S_{r}{\\left(r \\right)}\\end{matrix}\\right] & \\left[\\begin{matrix}- \\frac{L}{r^{2}} & 0 & 0 & 0\\\\0 & \\frac{L}{r^{2} f^{2}{\\left(r \\right)}} & 0 & 0\\\\0 & 0 & \\frac{L}{f{\\left(r \\right)}} & 0\\\\0 & 0 & 0 & \\frac{L \\sin^{2}{\\left(\\theta \\right)}}{f{\\left(r \\right)}}\\end{matrix}\\right] & \\left[\\begin{matrix}0 & 0 & 0 & 0\\\\0 & 0 & 0 & 0\\\\0 & 0 & 0 & 0\\\\0 & 0 & 0 & 0\\end{matrix}\\right]\\\\\\left[\\begin{matrix}- f{\\left(r \\right)} \\frac{d}{d r} S_{r}{\\left(r \\right)} & 0 & 0 & 0\\\\0 & \\frac{\\frac{d}{d r} S_{r}{\\left(r \\right)}}{f{\\left(r \\right)}} & 0 & 0\\\\0 & 0 & r^{2} \\frac{d}{d r} S_{r}{\\left(r \\right)} & 0\\\\0 & 0 & 0 & r^{2} \\sin^{2}{\\left(\\theta \\right)} \\frac{d}{d r} S_{r}{\\left(r \\right)}\\end{matrix}\\right] & \\left[\\begin{matrix}- f^{3}{\\left(r \\right)} \\left(\\frac{d}{d r} S_{r}{\\left(r \\right)}\\right)^{2} & 0 & 0 & 0\\\\0 & f{\\left(r \\right)} \\left(\\frac{d}{d r} S_{r}{\\left(r \\right)}\\right)^{2} & 0 & 0\\\\0 & 0 & r^{2} f^{2}{\\left(r \\right)} \\left(\\frac{d}{d r} S_{r}{\\left(r \\right)}\\right)^{2} & 0\\\\0 & 0 & 0 & r^{2} f^{2}{\\left(r \\right)} \\sin^{2}{\\left(\\theta \\right)} \\left(\\frac{d}{d r} S_{r}{\\left(r \\right)}\\right)^{2}\\end{matrix}\\right] & \\left[\\begin{matrix}- \\frac{L f^{2}{\\left(r \\right)} \\frac{d}{d r} S_{r}{\\left(r \\right)}}{r^{2}} & 0 & 0 & 0\\\\0 & \\frac{L \\frac{d}{d r} S_{r}{\\left(r \\right)}}{r^{2}} & 0 & 0\\\\0 & 0 & L f{\\left(r \\right)} \\frac{d}{d r} S_{r}{\\left(r \\right)} & 0\\\\0 & 0 & 0 & L f{\\left(r \\right)} \\sin^{2}{\\left(\\theta \\right)} \\frac{d}{d r} S_{r}{\\left(r \\right)}\\end{matrix}\\right] & \\left[\\begin{matrix}0 & 0 & 0 & 0\\\\0 & 0 & 0 & 0\\\\0 & 0 & 0 & 0\\\\0 & 0 & 0 & 0\\end{matrix}\\right]\\\\\\left[\\begin{matrix}- \\frac{L}{r^{2}} & 0 & 0 & 0\\\\0 & \\frac{L}{r^{2} f^{2}{\\left(r \\right)}} & 0 & 0\\\\0 & 0 & \\frac{L}{f{\\left(r \\right)}} & 0\\\\0 & 0 & 0 & \\frac{L \\sin^{2}{\\left(\\theta \\right)}}{f{\\left(r \\right)}}\\end{matrix}\\right] & \\left[\\begin{matrix}- \\frac{L f^{2}{\\left(r \\right)} \\frac{d}{d r} S_{r}{\\left(r \\right)}}{r^{2}} & 0 & 0 & 0\\\\0 & \\frac{L \\frac{d}{d r} S_{r}{\\left(r \\right)}}{r^{2}} & 0 & 0\\\\0 & 0 & L f{\\left(r \\right)} \\frac{d}{d r} S_{r}{\\left(r \\right)} & 0\\\\0 & 0 & 0 & L f{\\left(r \\right)} \\sin^{2}{\\left(\\theta \\right)} \\frac{d}{d r} S_{r}{\\left(r \\right)}\\end{matrix}\\right] & \\left[\\begin{matrix}- \\frac{L^{2} f{\\left(r \\right)}}{r^{4}} & 0 & 0 & 0\\\\0 & \\frac{L^{2}}{r^{4} f{\\left(r \\right)}} & 0 & 0\\\\0 & 0 & \\frac{L^{2}}{r^{2}} & 0\\\\0 & 0 & 0 & \\frac{L^{2} \\sin^{2}{\\left(\\theta \\right)}}{r^{2}}\\end{matrix}\\right] & \\left[\\begin{matrix}0 & 0 & 0 & 0\\\\0 & 0 & 0 & 0\\\\0 & 0 & 0 & 0\\\\0 & 0 & 0 & 0\\end{matrix}\\right]\\\\\\left[\\begin{matrix}0 & 0 & 0 & 0\\\\0 & 0 & 0 & 0\\\\0 & 0 & 0 & 0\\\\0 & 0 & 0 & 0\\end{matrix}\\right] & \\left[\\begin{matrix}0 & 0 & 0 & 0\\\\0 & 0 & 0 & 0\\\\0 & 0 & 0 & 0\\\\0 & 0 & 0 & 0\\end{matrix}\\right] & \\left[\\begin{matrix}0 & 0 & 0 & 0\\\\0 & 0 & 0 & 0\\\\0 & 0 & 0 & 0\\\\0 & 0 & 0 & 0\\end{matrix}\\right] & \\left[\\begin{matrix}0 & 0 & 0 & 0\\\\0 & 0 & 0 & 0\\\\0 & 0 & 0 & 0\\\\0 & 0 & 0 & 0\\end{matrix}\\right]\\end{matrix}\\right]$"
      ],
      "text/plain": [
       "Tensor(components=[[[[-1/f(r), 0, 0, 0], [0, f(r)**(-3), 0, 0], [0, 0, r**2/f(r)**2, 0], [0, 0, 0, r**2*sin(theta)**2/f(r)**2]], [[-f(r)*Derivative(S_r(r), r), 0, 0, 0], [0, Derivative(S_r(r), r)/f(r), 0, 0], [0, 0, r**2*Derivative(S_r(r), r), 0], [0, 0, 0, r**2*sin(theta)**2*Derivative(S_r(r), r)]], [[-L/r**2, 0, 0, 0], [0, L/(r**2*f(r)**2), 0, 0], [0, 0, L/f(r), 0], [0, 0, 0, L*sin(theta)**2/f(r)]], [[0, 0, 0, 0], [0, 0, 0, 0], [0, 0, 0, 0], [0, 0, 0, 0]]], [[[-f(r)*Derivative(S_r(r), r), 0, 0, 0], [0, Derivative(S_r(r), r)/f(r), 0, 0], [0, 0, r**2*Derivative(S_r(r), r), 0], [0, 0, 0, r**2*sin(theta)**2*Derivative(S_r(r), r)]], [[-f(r)**3*Derivative(S_r(r), r)**2, 0, 0, 0], [0, f(r)*Derivative(S_r(r), r)**2, 0, 0], [0, 0, r**2*f(r)**2*Derivative(S_r(r), r)**2, 0], [0, 0, 0, r**2*f(r)**2*sin(theta)**2*Derivative(S_r(r), r)**2]], [[-L*f(r)**2*Derivative(S_r(r), r)/r**2, 0, 0, 0], [0, L*Derivative(S_r(r), r)/r**2, 0, 0], [0, 0, L*f(r)*Derivative(S_r(r), r), 0], [0, 0, 0, L*f(r)*sin(theta)**2*Derivative(S_r(r), r)]], [[0, 0, 0, 0], [0, 0, 0, 0], [0, 0, 0, 0], [0, 0, 0, 0]]], [[[-L/r**2, 0, 0, 0], [0, L/(r**2*f(r)**2), 0, 0], [0, 0, L/f(r), 0], [0, 0, 0, L*sin(theta)**2/f(r)]], [[-L*f(r)**2*Derivative(S_r(r), r)/r**2, 0, 0, 0], [0, L*Derivative(S_r(r), r)/r**2, 0, 0], [0, 0, L*f(r)*Derivative(S_r(r), r), 0], [0, 0, 0, L*f(r)*sin(theta)**2*Derivative(S_r(r), r)]], [[-L**2*f(r)/r**4, 0, 0, 0], [0, L**2/(r**4*f(r)), 0, 0], [0, 0, L**2/r**2, 0], [0, 0, 0, L**2*sin(theta)**2/r**2]], [[0, 0, 0, 0], [0, 0, 0, 0], [0, 0, 0, 0], [0, 0, 0, 0]]], [[[0, 0, 0, 0], [0, 0, 0, 0], [0, 0, 0, 0], [0, 0, 0, 0]], [[0, 0, 0, 0], [0, 0, 0, 0], [0, 0, 0, 0], [0, 0, 0, 0]], [[0, 0, 0, 0], [0, 0, 0, 0], [0, 0, 0, 0], [0, 0, 0, 0]], [[0, 0, 0, 0], [0, 0, 0, 0], [0, 0, 0, 0], [0, 0, 0, 0]]]], indices=[1, 1, -1, -1], name=(∂S⊗∂S⊗g))"
      ]
     },
     "execution_count": 24,
     "metadata": {},
     "output_type": "execute_result"
    }
   ],
   "source": [
    "Sr = sp.Function('S_r')(r)\n",
    "L = sp.symbols('L')\n",
    "S = -t + Sr + L * theta\n",
    "S = vl.tensor.Tensor(\"S\", S)\n",
    "u = S.partial_gradient().raise_index(0)\n",
    "\n",
    "proj = u.tensor_product(u)\n",
    "proj\n",
    "T = proj.tensor_product(g)\n",
    "T"
   ]
  },
  {
   "cell_type": "code",
   "execution_count": null,
   "id": "9a71dab2-6b3f-4a7c-848d-66efd5e2926f",
   "metadata": {},
   "outputs": [],
   "source": []
  }
 ],
 "metadata": {
  "kernelspec": {
   "display_name": "Python 3 (ipykernel)",
   "language": "python",
   "name": "python3"
  },
  "language_info": {
   "codemirror_mode": {
    "name": "ipython",
    "version": 3
   },
   "file_extension": ".py",
   "mimetype": "text/x-python",
   "name": "python",
   "nbconvert_exporter": "python",
   "pygments_lexer": "ipython3",
   "version": "3.11.0"
  }
 },
 "nbformat": 4,
 "nbformat_minor": 5
}
